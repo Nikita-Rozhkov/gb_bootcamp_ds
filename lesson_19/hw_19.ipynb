{
  "nbformat": 4,
  "nbformat_minor": 0,
  "metadata": {
    "colab": {
      "provenance": [],
      "collapsed_sections": []
    },
    "kernelspec": {
      "name": "python3",
      "display_name": "Python 3"
    },
    "language_info": {
      "name": "python"
    }
  },
  "cells": [
    {
      "cell_type": "markdown",
      "source": [
        "## Домашнее задание"
      ],
      "metadata": {
        "id": "rRreJkK8lnmo"
      }
    },
    {
      "cell_type": "markdown",
      "source": [
        "### Задание 1"
      ],
      "metadata": {
        "id": "2jNW4IGtmEm4"
      }
    },
    {
      "cell_type": "markdown",
      "source": [
        "Выделите полный квадрат"
      ],
      "metadata": {
        "id": "w_eV6hPumKMF"
      }
    },
    {
      "cell_type": "markdown",
      "source": [
        "$x^2+4x+6=x^2+4x+4+2=(x+2)^2+2$"
      ],
      "metadata": {
        "id": "QL7lOjacmSUG"
      }
    },
    {
      "cell_type": "markdown",
      "source": [
        "$x^2+9=(x+0)^2+9$"
      ],
      "metadata": {
        "id": "SrW0eKfVopFy"
      }
    },
    {
      "cell_type": "markdown",
      "source": [
        "### Задание 2"
      ],
      "metadata": {
        "id": "pzCCKs6lqVCJ"
      }
    },
    {
      "cell_type": "markdown",
      "source": [
        "Упростите выражение, используя логарифмирование"
      ],
      "metadata": {
        "id": "Z3NZtFqtqZxF"
      }
    },
    {
      "cell_type": "markdown",
      "source": [
        "$y=x^{\\sin(x)}, x>0$"
      ],
      "metadata": {
        "id": "8ahiUKLnrTo3"
      }
    },
    {
      "cell_type": "markdown",
      "source": [
        "$\\ln(y)=\\ln(x^{\\sin(x)})$<br>\n",
        "$\\ln(y)=\\sin(x)\\ln(x)$"
      ],
      "metadata": {
        "id": "hQK5m9kzsKuU"
      }
    },
    {
      "cell_type": "markdown",
      "source": [
        "### Задание 3"
      ],
      "metadata": {
        "id": "egiw_aQlt5Qz"
      }
    },
    {
      "cell_type": "markdown",
      "source": [
        "Определите вид функции (чётная/нечётная/общего вида)"
      ],
      "metadata": {
        "id": "eh-uWIkOt9f4"
      }
    },
    {
      "cell_type": "markdown",
      "source": [
        "$y(x)=3x+x^3$"
      ],
      "metadata": {
        "id": "_ntldhgZuMMX"
      }
    },
    {
      "cell_type": "markdown",
      "source": [
        "$y(-x)=-3x+(-x)^3=-3x-x^3=-(3x+x^3)=-y(x)$<br>\n",
        "Функция *нечётная*"
      ],
      "metadata": {
        "id": "mXui1m9YuaWW"
      }
    },
    {
      "cell_type": "markdown",
      "source": [
        "$y(x)=4^x+4^{-x}$"
      ],
      "metadata": {
        "id": "iXXVLHAFvSb6"
      }
    },
    {
      "cell_type": "markdown",
      "source": [
        "$y(-x)=4^{-x}+4^{-(-x)}=4^{-x}+4^x=y(x)$<br>\n",
        "Функция *чётная*"
      ],
      "metadata": {
        "id": "vj8-ARTaviX-"
      }
    },
    {
      "cell_type": "markdown",
      "source": [
        "$y(x)=(x-1)^3$"
      ],
      "metadata": {
        "id": "ko3A66lJxDth"
      }
    },
    {
      "cell_type": "markdown",
      "source": [
        "$y(-x)=(-x-1)^3$<br>\n",
        "Функция *общего вида*"
      ],
      "metadata": {
        "id": "GAAywjeixX_x"
      }
    }
  ]
}