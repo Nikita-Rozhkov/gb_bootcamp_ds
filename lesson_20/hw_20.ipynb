{
  "nbformat": 4,
  "nbformat_minor": 0,
  "metadata": {
    "colab": {
      "provenance": [],
      "collapsed_sections": []
    },
    "kernelspec": {
      "name": "python3",
      "display_name": "Python 3"
    },
    "language_info": {
      "name": "python"
    }
  },
  "cells": [
    {
      "cell_type": "code",
      "source": [
        "import numpy as np"
      ],
      "metadata": {
        "id": "pJ91fZGsA_Wx"
      },
      "execution_count": 1,
      "outputs": []
    },
    {
      "cell_type": "markdown",
      "source": [
        "# Домашнее задание"
      ],
      "metadata": {
        "id": "np0I1pgLBE_g"
      }
    },
    {
      "cell_type": "markdown",
      "source": [
        "## Линейная алгебра"
      ],
      "metadata": {
        "id": "AgjdkQQvBJns"
      }
    },
    {
      "cell_type": "markdown",
      "source": [
        "### Задание 1"
      ],
      "metadata": {
        "id": "csrZLBFjBNLi"
      }
    },
    {
      "cell_type": "markdown",
      "source": [
        "Найти $A+B$<br>\n",
        "$A=\n",
        "\\begin{pmatrix}\n",
        "1 & 3 & 0\\\\\n",
        "2 & -4 & 3\\\\\n",
        "5 & 6 & 9\n",
        "\\end{pmatrix}$\n",
        "$B=\n",
        "\\begin{pmatrix}\n",
        "10 & 6 & -2\\\\\n",
        "0 & 7 & 4\\\\\n",
        "-1 & 2 & 0\n",
        "\\end{pmatrix}$"
      ],
      "metadata": {
        "id": "NyrURUa6Bg_a"
      }
    },
    {
      "cell_type": "markdown",
      "source": [
        "$A+B=\\begin{pmatrix}\n",
        "1 & 3 & 0\\\\\n",
        "2 & -4 & 3\\\\\n",
        "5 & 6 & 9\n",
        "\\end{pmatrix}\n",
        "+\n",
        "\\begin{pmatrix}\n",
        "10 & 6 & -2\\\\\n",
        "0 & 7 & 4\\\\\n",
        "-1 & 2 & 0\n",
        "\\end{pmatrix}\n",
        "=\n",
        "\\begin{pmatrix}\n",
        "11 & 9 & -2\\\\\n",
        "2 & 3 & 7\\\\\n",
        "4 & 8 & 9\n",
        "\\end{pmatrix}$"
      ],
      "metadata": {
        "id": "8QcICdwEDmAG"
      }
    },
    {
      "cell_type": "code",
      "source": [
        "# Проверка\n",
        "A = np.array([[1, 3, 0],\n",
        "              [2, -4 , 3],\n",
        "              [5, 6, 9]])\n",
        "B = np.array([[10, 6, -2],\n",
        "              [0, 7, 4],\n",
        "              [-1, 2, 0]])\n",
        "A + B"
      ],
      "metadata": {
        "colab": {
          "base_uri": "https://localhost:8080/"
        },
        "id": "UXl-GTxhEaZQ",
        "outputId": "4d0a0d69-076c-400a-c9e2-a01111e9dee1"
      },
      "execution_count": 2,
      "outputs": [
        {
          "output_type": "execute_result",
          "data": {
            "text/plain": [
              "array([[11,  9, -2],\n",
              "       [ 2,  3,  7],\n",
              "       [ 4,  8,  9]])"
            ]
          },
          "metadata": {},
          "execution_count": 2
        }
      ]
    },
    {
      "cell_type": "markdown",
      "source": [
        "### Задание 2"
      ],
      "metadata": {
        "id": "dk1kWGPFFLNm"
      }
    },
    {
      "cell_type": "markdown",
      "source": [
        "Найти $A \\cdot B$<br>\n",
        "$A=\n",
        "\\begin{pmatrix}\n",
        "2 & 8\\\\\n",
        "3 & 4\n",
        "\\end{pmatrix}\n",
        "B=\n",
        "\\begin{pmatrix}\n",
        "1 & 0\\\\\n",
        "4 & 9\n",
        "\\end{pmatrix}\n",
        "$\n"
      ],
      "metadata": {
        "id": "Eo3-Ov8oFQrF"
      }
    },
    {
      "cell_type": "markdown",
      "source": [
        "$A\\cdot B =\n",
        "\\begin{pmatrix}\n",
        "2 & 8\\\\\n",
        "3 & 4\n",
        "\\end{pmatrix}\n",
        "\\cdot\n",
        "\\begin{pmatrix}\n",
        "1 & 0\\\\\n",
        "4 & 9\n",
        "\\end{pmatrix}\n",
        "=\n",
        "\\begin{pmatrix}\n",
        "2 \\cdot 1 + 8 \\cdot 4  & 2 \\cdot 0 + 8 \\cdot 9\\\\\n",
        "3 \\cdot 1 + 4 \\cdot 4 & 3 \\cdot 0 + 4 \\cdot 9\n",
        "\\end{pmatrix}\n",
        "= \\begin{pmatrix}\n",
        "34 & 72\\\\\n",
        "19 & 36\n",
        "\\end{pmatrix}\n",
        "$"
      ],
      "metadata": {
        "id": "-z1BE767GWRT"
      }
    },
    {
      "cell_type": "code",
      "source": [
        "# Проверка\n",
        "A = np.array([[2, 8],\n",
        "              [3, 4]])\n",
        "B = np.array([[1, 0],\n",
        "              [4, 9]])\n",
        "A @ B"
      ],
      "metadata": {
        "colab": {
          "base_uri": "https://localhost:8080/"
        },
        "id": "ohN9htYSICTF",
        "outputId": "0ba994ff-9d5e-44ee-f90e-aba6ea6b46b4"
      },
      "execution_count": 4,
      "outputs": [
        {
          "output_type": "execute_result",
          "data": {
            "text/plain": [
              "array([[34, 72],\n",
              "       [19, 36]])"
            ]
          },
          "metadata": {},
          "execution_count": 4
        }
      ]
    },
    {
      "cell_type": "markdown",
      "source": [
        "### Задание 3"
      ],
      "metadata": {
        "id": "tvYAuZlRIXQh"
      }
    },
    {
      "cell_type": "markdown",
      "source": [
        "Вычислить определители"
      ],
      "metadata": {
        "id": "1bRpvJJJIiQt"
      }
    },
    {
      "cell_type": "markdown",
      "source": [
        "$\\begin{vmatrix}\n",
        "3 & 7\\\\\n",
        "6 & 9\n",
        "\\end{vmatrix}\n",
        "= 3 \\cdot 9-6 \\cdot 7 =-15\n",
        "$"
      ],
      "metadata": {
        "id": "J4_zgPaTIoL2"
      }
    },
    {
      "cell_type": "code",
      "source": [
        "# Проверка\n",
        "A = np.array([[3, 7],\n",
        "              [6, 9]])\n",
        "np.linalg.det(A)"
      ],
      "metadata": {
        "colab": {
          "base_uri": "https://localhost:8080/"
        },
        "id": "aPtpepFRJOjv",
        "outputId": "c0e09f6c-757a-4f62-ac77-c67cd47f39df"
      },
      "execution_count": 5,
      "outputs": [
        {
          "output_type": "execute_result",
          "data": {
            "text/plain": [
              "-15.0"
            ]
          },
          "metadata": {},
          "execution_count": 5
        }
      ]
    },
    {
      "cell_type": "markdown",
      "source": [
        "$\\begin{vmatrix}\n",
        "4 & 1 & 9\\\\\n",
        "3 & 2 & 0\\\\\n",
        "8 & 7 & 5\n",
        "\\end{vmatrix}\n",
        "= -3 \\cdot \n",
        "\\begin{vmatrix}\n",
        "1 & 9\\\\\n",
        "7 & 5\n",
        "\\end{vmatrix}\n",
        "+\n",
        "2 \\cdot \n",
        "\\begin{vmatrix}\n",
        "4 & 9\\\\\n",
        "8 & 5\n",
        "\\end{vmatrix}\n",
        "- 0 \\cdot \n",
        "\\begin{vmatrix}\n",
        "3 & 2\\\\\n",
        "8 & 7\n",
        "\\end{vmatrix}\n",
        "=-3 \\cdot (-58) + 2 \\cdot (-52)=70\n",
        "$"
      ],
      "metadata": {
        "id": "ddgvWQ6bJgns"
      }
    },
    {
      "cell_type": "code",
      "source": [
        "# Проверка\n",
        "A = np.array([[4, 1, 9],\n",
        "              [3, 2 , 0],\n",
        "              [8, 7, 5]])\n",
        "np.linalg.det(A)"
      ],
      "metadata": {
        "colab": {
          "base_uri": "https://localhost:8080/"
        },
        "id": "fO1hwTVCL2ey",
        "outputId": "e6da3ad8-a93d-49de-8baf-9453e40d946c"
      },
      "execution_count": 6,
      "outputs": [
        {
          "output_type": "execute_result",
          "data": {
            "text/plain": [
              "69.99999999999996"
            ]
          },
          "metadata": {},
          "execution_count": 6
        }
      ]
    }
  ]
}