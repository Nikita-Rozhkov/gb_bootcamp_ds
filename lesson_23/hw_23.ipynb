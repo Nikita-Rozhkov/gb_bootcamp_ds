{
  "cells": [
    {
      "cell_type": "markdown",
      "id": "70c4eea6",
      "metadata": {
        "id": "70c4eea6"
      },
      "source": [
        "Задача 1.\n",
        "Предположим, мы хотим найти вероятность того, что на игральной кости при броске выпадет значение больше 4."
      ]
    },
    {
      "cell_type": "markdown",
      "source": [
        "Количество благоприятных исходов - 2 (выпадет 5 или 6)<br>\n",
        "Количество возможных исходов - 6<br>\n",
        "Вероятность: $\\frac{2}{6}=\\frac{1}{3}$"
      ],
      "metadata": {
        "id": "DtupO3epOm2-"
      },
      "id": "DtupO3epOm2-"
    },
    {
      "cell_type": "code",
      "execution_count": 7,
      "id": "46458864",
      "metadata": {
        "id": "46458864",
        "colab": {
          "base_uri": "https://localhost:8080/"
        },
        "outputId": "53b58e18-dbde-4404-8af2-939c0465668e"
      },
      "outputs": [
        {
          "output_type": "execute_result",
          "data": {
            "text/plain": [
              "0.33"
            ]
          },
          "metadata": {},
          "execution_count": 7
        }
      ],
      "source": [
        "round(2/6, 2)"
      ]
    },
    {
      "cell_type": "markdown",
      "id": "4f48137e",
      "metadata": {
        "id": "4f48137e"
      },
      "source": [
        "Задача 2. Написать функцию для вычисления факториала и рассчитать число сочетаний из 6 по 2."
      ]
    },
    {
      "cell_type": "code",
      "execution_count": 8,
      "id": "00b864a2",
      "metadata": {
        "id": "00b864a2"
      },
      "outputs": [],
      "source": [
        "def fact(x):\n",
        "    if x == 0:\n",
        "      return 1\n",
        "    else:\n",
        "      return x * fact(x - 1) "
      ]
    },
    {
      "cell_type": "code",
      "execution_count": 9,
      "id": "d0c90fd6",
      "metadata": {
        "id": "d0c90fd6",
        "colab": {
          "base_uri": "https://localhost:8080/"
        },
        "outputId": "2b61e713-76e1-4c54-8b62-946ec2a75f53"
      },
      "outputs": [
        {
          "output_type": "execute_result",
          "data": {
            "text/plain": [
              "24"
            ]
          },
          "metadata": {},
          "execution_count": 9
        }
      ],
      "source": [
        "fact(4)"
      ]
    },
    {
      "cell_type": "markdown",
      "source": [
        "$C_{6}^{2}=\\frac{n!}{k!(n-k)!}$"
      ],
      "metadata": {
        "id": "YX9eNrL1UYLK"
      },
      "id": "YX9eNrL1UYLK"
    },
    {
      "cell_type": "code",
      "execution_count": 10,
      "id": "818dbe13",
      "metadata": {
        "id": "818dbe13",
        "colab": {
          "base_uri": "https://localhost:8080/"
        },
        "outputId": "e9d0dfd9-10d5-4318-dda7-77145b42d6d1"
      },
      "outputs": [
        {
          "output_type": "execute_result",
          "data": {
            "text/plain": [
              "15"
            ]
          },
          "metadata": {},
          "execution_count": 10
        }
      ],
      "source": [
        "#formula\n",
        "int(fact(6)/(fact(2) * fact(6 - 2)))"
      ]
    },
    {
      "cell_type": "markdown",
      "id": "710a7b51",
      "metadata": {
        "id": "710a7b51"
      },
      "source": [
        "Задача 3. Из 30 стрелков 12 попадает в цель с вероятностью 0,6, 8 стрелков — с вероятностью 0,5, а 10 — с вероятностью 0,7. Наудачу выбранный стрелок произвёл выстрел, поразив цель.\n",
        "К какой из групп, вероятнее всего, принадлежал этот стрелок?"
      ]
    },
    {
      "cell_type": "markdown",
      "source": [
        "Событие $B_1$ - стрелок из *первой* группы, $P(B_{1})=\\frac{12}{30}=\\frac{2}{5}$<br>\n",
        "Событие $B_2$ -стрелок из *второй* группы, $P(B_{2})=\\frac{8}{30}=\\frac{4}{15}$<br>\n",
        "Событие $B_3$ -стрелок из *третьей* группы, $P(B_{3})=\\frac{10}{30}=\\frac{1}{3}$<br>"
      ],
      "metadata": {
        "id": "RUpRGy08doqu"
      },
      "id": "RUpRGy08doqu"
    },
    {
      "cell_type": "markdown",
      "source": [
        "Событие $A$ - стрелок попал в цель<br>\n",
        "$P(A|B_{1})=0,6$<br>\n",
        "$P(A|B_{2})=0,5$<br>\n",
        "$P(A|B_{3})=0,7$<br>"
      ],
      "metadata": {
        "id": "cmqzOuiPgNv2"
      },
      "id": "cmqzOuiPgNv2"
    },
    {
      "cell_type": "markdown",
      "source": [
        "По формуле полной вероятности вычислим $P(A)$:<br>\n",
        "$P(A)=P(B_{1})P(A|B_{1})+P(B_{2})P(A|B_{2})+P(B_{3})P(A|B_{3})$"
      ],
      "metadata": {
        "id": "16sRIxkktzA9"
      },
      "id": "16sRIxkktzA9"
    },
    {
      "cell_type": "code",
      "execution_count": 11,
      "id": "bf853584",
      "metadata": {
        "id": "bf853584",
        "colab": {
          "base_uri": "https://localhost:8080/"
        },
        "outputId": "762a58df-4143-4070-d4e9-b2d323c54344"
      },
      "outputs": [
        {
          "output_type": "execute_result",
          "data": {
            "text/plain": [
              "0.6066666666666666"
            ]
          },
          "metadata": {},
          "execution_count": 11
        }
      ],
      "source": [
        "p_A = (2/5) * 0.6 + (4/15) * 0.5 + (1/3) * 0.7\n",
        "p_A"
      ]
    },
    {
      "cell_type": "markdown",
      "source": [
        "По формуле Байеса вероятность того, что выстрел произведён стрелком из *первой* группы:<br>\n",
        "$P(B_1|A)=\\frac{P(B_1)\\cdot P(A|B_1)}{P(A)}$"
      ],
      "metadata": {
        "id": "z4Se7gOevQHp"
      },
      "id": "z4Se7gOevQHp"
    },
    {
      "cell_type": "code",
      "source": [
        "round(((2/5) * 0.6) / p_A, 4)"
      ],
      "metadata": {
        "colab": {
          "base_uri": "https://localhost:8080/"
        },
        "id": "ZutfeJ3awqId",
        "outputId": "362ecaa6-9b42-416e-83b9-dcd689578aa4"
      },
      "id": "ZutfeJ3awqId",
      "execution_count": 12,
      "outputs": [
        {
          "output_type": "execute_result",
          "data": {
            "text/plain": [
              "0.3956"
            ]
          },
          "metadata": {},
          "execution_count": 12
        }
      ]
    },
    {
      "cell_type": "markdown",
      "source": [
        "По формуле Байеса вероятность того, что выстрел произведён стрелком из *второй* группы:<br>\n",
        "$P(B_2|A)=\\frac{P(B_2)\\cdot P(A|B_2)}{P(A)}$"
      ],
      "metadata": {
        "id": "pnwG2mwiv1ON"
      },
      "id": "pnwG2mwiv1ON"
    },
    {
      "cell_type": "code",
      "source": [
        "round(((4/15) * 0.5) / p_A, 4)"
      ],
      "metadata": {
        "colab": {
          "base_uri": "https://localhost:8080/"
        },
        "id": "wg7aDny2xLmB",
        "outputId": "a42001de-8276-416b-ba20-1e58bae00d32"
      },
      "id": "wg7aDny2xLmB",
      "execution_count": 13,
      "outputs": [
        {
          "output_type": "execute_result",
          "data": {
            "text/plain": [
              "0.2198"
            ]
          },
          "metadata": {},
          "execution_count": 13
        }
      ]
    },
    {
      "cell_type": "markdown",
      "source": [
        "По формуле Байеса вероятность того, что выстрел произведён стрелком из *третьей* группы:<br>\n",
        "$P(B_3|A)=\\frac{P(B_3)\\cdot P(A|B_3)}{P(A)}$"
      ],
      "metadata": {
        "id": "3EYp7m-TxTy2"
      },
      "id": "3EYp7m-TxTy2"
    },
    {
      "cell_type": "code",
      "source": [
        "round(((1/3) * 0.7) / p_A, 4)"
      ],
      "metadata": {
        "colab": {
          "base_uri": "https://localhost:8080/"
        },
        "id": "Qv6zww_OxbsF",
        "outputId": "6e5fb7b3-10f4-4a37-bfb6-334ada99d7f7"
      },
      "id": "Qv6zww_OxbsF",
      "execution_count": 14,
      "outputs": [
        {
          "output_type": "execute_result",
          "data": {
            "text/plain": [
              "0.3846"
            ]
          },
          "metadata": {},
          "execution_count": 14
        }
      ]
    },
    {
      "cell_type": "markdown",
      "source": [
        "Стрелок, вероятнее всего, принадлежал к *первой* группе"
      ],
      "metadata": {
        "id": "P_C0JujHxts3"
      },
      "id": "P_C0JujHxts3"
    },
    {
      "cell_type": "markdown",
      "id": "8091fdd1",
      "metadata": {
        "id": "8091fdd1"
      },
      "source": [
        "Задача 4. Сгенерировать выборку реализаций случайной величины (кроме распределения Коши).\n",
        "Любимое распределение можно выбрать на этом [сайте](https://docs.scipy.org/doc/scipy/reference/stats.html).\n",
        "Проверить ЦПТ для различных n."
      ]
    },
    {
      "cell_type": "code",
      "execution_count": 40,
      "id": "8bc6a63d",
      "metadata": {
        "id": "8bc6a63d"
      },
      "outputs": [],
      "source": [
        "from scipy.stats import expon\n",
        "import seaborn as sns\n",
        "import matplotlib.pyplot as plt\n",
        "import warnings\n",
        "warnings.filterwarnings('ignore')"
      ]
    },
    {
      "cell_type": "code",
      "source": [
        "a = [[]]\n",
        "for n in range(1, 5):\n",
        "    a.append([])\n",
        "    for i in range(10**n):\n",
        "        a[n].append(expon.rvs(size=1000).mean())"
      ],
      "metadata": {
        "id": "R4UXUfnxzFZN"
      },
      "id": "R4UXUfnxzFZN",
      "execution_count": 46,
      "outputs": []
    },
    {
      "cell_type": "code",
      "execution_count": 47,
      "id": "79d45f60",
      "metadata": {
        "id": "79d45f60",
        "colab": {
          "base_uri": "https://localhost:8080/",
          "height": 374
        },
        "outputId": "b370f350-1382-4477-9a0e-11ac0d6ad326"
      },
      "outputs": [
        {
          "output_type": "display_data",
          "data": {
            "text/plain": [
              "<Figure size 864x432 with 1 Axes>"
            ],
            "image/png": "[encoded data removed]"
          },
          "metadata": {}
        }
      ],
      "source": [
        "plt.figure(figsize=(12,6))\n",
        "sns.set_style('whitegrid')\n",
        "for j in range(1, 5):\n",
        "  sns.distplot(a[j])"
      ]
    },
    {
      "cell_type": "code",
      "execution_count": 48,
      "id": "db4dcded",
      "metadata": {
        "id": "db4dcded"
      },
      "outputs": [],
      "source": [
        "from scipy import stats\n",
        "import numpy as np"
      ]
    },
    {
      "cell_type": "code",
      "execution_count": 49,
      "id": "61a8bb90",
      "metadata": {
        "id": "61a8bb90",
        "colab": {
          "base_uri": "https://localhost:8080/"
        },
        "outputId": "7ff4d145-8dde-4ace-ab75-fe2dd7057928"
      },
      "outputs": [
        {
          "output_type": "execute_result",
          "data": {
            "text/plain": [
              "AndersonResult(statistic=0.5660531190897018, critical_values=array([0.576, 0.656, 0.787, 0.918, 1.092]), significance_level=array([15. , 10. ,  5. ,  2.5,  1. ]))"
            ]
          },
          "metadata": {},
          "execution_count": 49
        }
      ],
      "source": [
        "stats.anderson(a[4])"
      ]
    },
    {
      "cell_type": "markdown",
      "id": "966dc077",
      "metadata": {
        "id": "966dc077"
      },
      "source": [
        "Задача 5. Попробовать применить ЦПТ к распределению Коши."
      ]
    },
    {
      "cell_type": "code",
      "execution_count": 50,
      "id": "a2bcd5bf",
      "metadata": {
        "id": "a2bcd5bf"
      },
      "outputs": [],
      "source": [
        "from scipy.stats import cauchy"
      ]
    },
    {
      "cell_type": "code",
      "execution_count": 52,
      "id": "ee5c8e76",
      "metadata": {
        "id": "ee5c8e76"
      },
      "outputs": [],
      "source": [
        "a_1 = [[]]\n",
        "for n in range(1, 5):\n",
        "    a_1.append([])\n",
        "    for i in range(10**n):\n",
        "        a_1[n].append(cauchy.rvs(size=1000).mean())"
      ]
    },
    {
      "cell_type": "code",
      "execution_count": 53,
      "id": "56988472",
      "metadata": {
        "id": "56988472",
        "colab": {
          "base_uri": "https://localhost:8080/",
          "height": 374
        },
        "outputId": "fd72289c-a0a1-4d22-d732-6ca13623616a"
      },
      "outputs": [
        {
          "output_type": "display_data",
          "data": {
            "text/plain": [
              "<Figure size 864x432 with 1 Axes>"
            ],
            "image/png": "[encoded data removed]"
          },
          "metadata": {}
        }
      ],
      "source": [
        "plt.figure(figsize=(12,6))\n",
        "sns.set_style('whitegrid')\n",
        "for j in range(1, 5):\n",
        "  sns.distplot(a_1[j])"
      ]
    },
    {
      "cell_type": "code",
      "execution_count": 54,
      "id": "eb52f970",
      "metadata": {
        "id": "eb52f970",
        "colab": {
          "base_uri": "https://localhost:8080/"
        },
        "outputId": "263b3b83-0d27-473b-c3a0-0286e67dd41d"
      },
      "outputs": [
        {
          "output_type": "execute_result",
          "data": {
            "text/plain": [
              "AndersonResult(statistic=3508.792924542957, critical_values=array([0.576, 0.656, 0.787, 0.918, 1.092]), significance_level=array([15. , 10. ,  5. ,  2.5,  1. ]))"
            ]
          },
          "metadata": {},
          "execution_count": 54
        }
      ],
      "source": [
        "stats.anderson(np.array(a_1[4]))"
      ]
    },
    {
      "cell_type": "markdown",
      "id": "c5d9ce87",
      "metadata": {
        "id": "c5d9ce87"
      },
      "source": [
        "Задача 6. Посчитать основные характеристики выборки."
      ]
    },
    {
      "cell_type": "code",
      "source": [
        "a5 = []\n",
        "a6 = []\n",
        "for i in range(100000):\n",
        "    a5.append(expon.rvs(size=1000).mean())\n",
        "    a6.append(cauchy.rvs(size=1000).mean())"
      ],
      "metadata": {
        "id": "nkPFcsa36RKb"
      },
      "id": "nkPFcsa36RKb",
      "execution_count": 55,
      "outputs": []
    },
    {
      "cell_type": "code",
      "execution_count": 56,
      "id": "d0a1b5cb",
      "metadata": {
        "id": "d0a1b5cb"
      },
      "outputs": [],
      "source": [
        "a5rr=np.array(a5)\n",
        "a6rr=np.array(a6)"
      ]
    },
    {
      "cell_type": "code",
      "execution_count": 57,
      "id": "f510acaf",
      "metadata": {
        "id": "f510acaf",
        "colab": {
          "base_uri": "https://localhost:8080/"
        },
        "outputId": "62ddaead-3c98-472b-d496-00117f07b4e1"
      },
      "outputs": [
        {
          "output_type": "execute_result",
          "data": {
            "text/plain": [
              "(0.8602136187202409,\n",
              " 1.1394708748055475,\n",
              " 0.9998789153847755,\n",
              " 0.03172706226210427)"
            ]
          },
          "metadata": {},
          "execution_count": 57
        }
      ],
      "source": [
        "np.min(a5rr), np.max(a5rr), np.mean(a5rr), np.std(a5rr)"
      ]
    },
    {
      "cell_type": "code",
      "source": [
        "np.min(a6rr), np.max(a6rr), np.mean(a6rr), np.std(a6rr)"
      ],
      "metadata": {
        "colab": {
          "base_uri": "https://localhost:8080/"
        },
        "id": "l2ddNHrb6jCz",
        "outputId": "553601f0-9ca4-4f6d-a10c-098aa07c1154"
      },
      "id": "l2ddNHrb6jCz",
      "execution_count": 58,
      "outputs": [
        {
          "output_type": "execute_result",
          "data": {
            "text/plain": [
              "(-26897.17810314562, 78474.24519621713, 1.2412765500129177, 356.1799788084801)"
            ]
          },
          "metadata": {},
          "execution_count": 58
        }
      ]
    },
    {
      "cell_type": "markdown",
      "id": "12d2c149",
      "metadata": {
        "id": "12d2c149"
      },
      "source": [
        "Задача 7. Посчитать коэффициент корреляции для двух векторов."
      ]
    },
    {
      "cell_type": "code",
      "execution_count": 59,
      "id": "b2f3738a",
      "metadata": {
        "id": "b2f3738a",
        "colab": {
          "base_uri": "https://localhost:8080/"
        },
        "outputId": "ea4b029f-024d-480b-a2d2-1a70adf64e41"
      },
      "outputs": [
        {
          "output_type": "execute_result",
          "data": {
            "text/plain": [
              "(100000, 100000)"
            ]
          },
          "metadata": {},
          "execution_count": 59
        }
      ],
      "source": [
        "len(a5), len(a6)"
      ]
    },
    {
      "cell_type": "code",
      "execution_count": 60,
      "id": "9bd26c09",
      "metadata": {
        "id": "9bd26c09",
        "colab": {
          "base_uri": "https://localhost:8080/"
        },
        "outputId": "1251b259-6ef9-46d2-fc15-c78340b5dd1d"
      },
      "outputs": [
        {
          "output_type": "execute_result",
          "data": {
            "text/plain": [
              "array([[1.        , 0.00627695],\n",
              "       [0.00627695, 1.        ]])"
            ]
          },
          "metadata": {},
          "execution_count": 60
        }
      ],
      "source": [
        "np.corrcoef(a5rr, a6rr)"
      ]
    }
  ],
  "metadata": {
    "kernelspec": {
      "display_name": "Python 3",
      "language": "python",
      "name": "python3"
    },
    "language_info": {
      "codemirror_mode": {
        "name": "ipython",
        "version": 3
      },
      "file_extension": ".py",
      "mimetype": "text/x-python",
      "name": "python",
      "nbconvert_exporter": "python",
      "pygments_lexer": "ipython3",
      "version": "3.6.5"
    },
    "colab": {
      "provenance": [],
      "collapsed_sections": []
    }
  },
  "nbformat": 4,
  "nbformat_minor": 5
}