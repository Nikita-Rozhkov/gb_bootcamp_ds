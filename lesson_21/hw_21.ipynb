{
  "nbformat": 4,
  "nbformat_minor": 0,
  "metadata": {
    "colab": {
      "provenance": [],
      "collapsed_sections": []
    },
    "kernelspec": {
      "name": "python3",
      "display_name": "Python 3"
    },
    "language_info": {
      "name": "python"
    }
  },
  "cells": [
    {
      "cell_type": "markdown",
      "source": [
        "# Домашнее задание"
      ],
      "metadata": {
        "id": "ACRAtsK1Y6mt"
      }
    },
    {
      "cell_type": "markdown",
      "source": [
        "## Математический анализ"
      ],
      "metadata": {
        "id": "ZxiU2COxZR3y"
      }
    },
    {
      "cell_type": "markdown",
      "source": [
        "### Задание 1"
      ],
      "metadata": {
        "id": "nGdZc9L1ZbzU"
      }
    },
    {
      "cell_type": "markdown",
      "source": [
        "Вычислите пределы"
      ],
      "metadata": {
        "id": "vftyHVjPZi28"
      }
    },
    {
      "cell_type": "markdown",
      "source": [
        "$\\lim_{x\\to \\infty}\\frac{3+x+x^2}{2x+4x^2}=[\\frac{\\infty}{\\infty}]=\\lim_{x\\to \\infty}\\frac{\\frac{3}{x^2}+\\frac{1}{x}+1}{\\frac{2}{x}+4}=\\frac{1}{4}$"
      ],
      "metadata": {
        "id": "U5pjaJG4ZmVS"
      }
    },
    {
      "cell_type": "markdown",
      "source": [
        "$\\lim_{x\\to 0}\\frac{3x-6}{x^2+4}=\\frac{3 \\cdot 0 -6}{0^2+4}=-\\frac{3}{2}$"
      ],
      "metadata": {
        "id": "BcXTtGr2fce6"
      }
    },
    {
      "cell_type": "markdown",
      "source": [
        "### Задание 2"
      ],
      "metadata": {
        "id": "WjcuTM-vgPag"
      }
    },
    {
      "cell_type": "markdown",
      "source": [
        "Вычислите производные"
      ],
      "metadata": {
        "id": "Gs9arQF2gf3c"
      }
    },
    {
      "cell_type": "markdown",
      "source": [
        "$y=\\sin(x)$<br>\n",
        "$y^{\\prime}=\\cos(x)$"
      ],
      "metadata": {
        "id": "UPd93Qbsgl_5"
      }
    },
    {
      "cell_type": "markdown",
      "source": [
        "$y=10x+3x^2$<br>\n",
        "$y^{\\prime}=10+6x$\n"
      ],
      "metadata": {
        "id": "lmPtsFUEhYf0"
      }
    },
    {
      "cell_type": "markdown",
      "source": [
        "### Задание 3"
      ],
      "metadata": {
        "id": "7J9iAXc0hp-X"
      }
    },
    {
      "cell_type": "markdown",
      "source": [
        "Найдите интеграл"
      ],
      "metadata": {
        "id": "F1YD9_c4hvWh"
      }
    },
    {
      "cell_type": "markdown",
      "source": [
        "$y=\\cos(x)$<br>\n",
        "$\\int\\cos(x)dx=\\sin(x)+C$"
      ],
      "metadata": {
        "id": "0Q3jIHGMh1nv"
      }
    },
    {
      "cell_type": "markdown",
      "source": [
        "$y=10^x$<br>\n",
        "$\\int10^xdx=\\frac{10^x}{\\ln10}+C$"
      ],
      "metadata": {
        "id": "kMq7LggQipIN"
      }
    }
  ]
}