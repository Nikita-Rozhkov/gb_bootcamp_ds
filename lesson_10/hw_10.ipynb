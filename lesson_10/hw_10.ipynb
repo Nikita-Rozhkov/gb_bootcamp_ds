{
  "cells": [
    {
      "cell_type": "code",
      "source": [
        "import pandas as pd\n",
        "import numpy as np\n",
        "from scipy import integrate\n",
        "from scipy import linalg\n",
        "import matplotlib.pyplot as plt"
      ],
      "metadata": {
        "id": "TIwvSIWtQJYh"
      },
      "id": "TIwvSIWtQJYh",
      "execution_count": 28,
      "outputs": []
    },
    {
      "cell_type": "markdown",
      "id": "rubber-sport",
      "metadata": {
        "id": "rubber-sport"
      },
      "source": [
        "### Pandas\n",
        "\n",
        "Для некоторых заданий, возможно, придется обратиться к документации: https://pandas.pydata.org/docs/\n",
        "\n"
      ]
    },
    {
      "cell_type": "markdown",
      "source": [
        "* Скачайте любой табличный датасет (или создайте тестовый пример самостоятельно), например, с https://www.kaggle.com/datasets"
      ],
      "metadata": {
        "id": "hxjZYR1PQb-6"
      },
      "id": "hxjZYR1PQb-6"
    },
    {
      "cell_type": "markdown",
      "source": [
        "https://www.kaggle.com/datasets/ruchi798/data-science-job-salaries"
      ],
      "metadata": {
        "id": "aVJqVajVR3hp"
      },
      "id": "aVJqVajVR3hp"
    },
    {
      "cell_type": "code",
      "source": [
        "from google.colab import drive\n",
        "drive.mount('/content/drive')"
      ],
      "metadata": {
        "colab": {
          "base_uri": "https://localhost:8080/"
        },
        "id": "wnYB2VynQkZZ",
        "outputId": "db3b6a85-2a89-4ad2-87d3-1473a706c06c"
      },
      "id": "wnYB2VynQkZZ",
      "execution_count": 3,
      "outputs": [
        {
          "output_type": "stream",
          "name": "stdout",
          "text": [
            "Drive already mounted at /content/drive; to attempt to forcibly remount, call drive.mount(\"/content/drive\", force_remount=True).\n"
          ]
        }
      ]
    },
    {
      "cell_type": "markdown",
      "source": [
        "* Загрузите данные и проанализируйте их (используя функции .info и .describe)"
      ],
      "metadata": {
        "id": "seZDPPBmSEyn"
      },
      "id": "seZDPPBmSEyn"
    },
    {
      "cell_type": "code",
      "source": [
        "df = pd.read_csv('/content/drive/MyDrive/ds_salaries.csv').set_index('Unnamed: 0')\n",
        "df.head()"
      ],
      "metadata": {
        "colab": {
          "base_uri": "https://localhost:8080/",
          "height": 237
        },
        "id": "HpuyvdYoQbXq",
        "outputId": "d1bd9de3-5e28-4649-e179-062a76a9847c"
      },
      "id": "HpuyvdYoQbXq",
      "execution_count": 6,
      "outputs": [
        {
          "output_type": "execute_result",
          "data": {
            "text/plain": [
              "            work_year experience_level employment_type  \\\n",
              "Unnamed: 0                                               \n",
              "0                2020               MI              FT   \n",
              "1                2020               SE              FT   \n",
              "2                2020               SE              FT   \n",
              "3                2020               MI              FT   \n",
              "4                2020               SE              FT   \n",
              "\n",
              "                             job_title  salary salary_currency  salary_in_usd  \\\n",
              "Unnamed: 0                                                                      \n",
              "0                       Data Scientist   70000             EUR          79833   \n",
              "1           Machine Learning Scientist  260000             USD         260000   \n",
              "2                    Big Data Engineer   85000             GBP         109024   \n",
              "3                 Product Data Analyst   20000             USD          20000   \n",
              "4            Machine Learning Engineer  150000             USD         150000   \n",
              "\n",
              "           employee_residence  remote_ratio company_location company_size  \n",
              "Unnamed: 0                                                                 \n",
              "0                          DE             0               DE            L  \n",
              "1                          JP             0               JP            S  \n",
              "2                          GB            50               GB            M  \n",
              "3                          HN             0               HN            S  \n",
              "4                          US            50               US            L  "
            ],
            "text/html": [
              "\n",
              "  <div id=\"df-53b85623-bdc4-4bc0-a09b-7ce86a9e3c22\">\n",
              "    <div class=\"colab-df-container\">\n",
              "      <div>\n",
              "<style scoped>\n",
              "    .dataframe tbody tr th:only-of-type {\n",
              "        vertical-align: middle;\n",
              "    }\n",
              "\n",
              "    .dataframe tbody tr th {\n",
              "        vertical-align: top;\n",
              "    }\n",
              "\n",
              "    .dataframe thead th {\n",
              "        text-align: right;\n",
              "    }\n",
              "</style>\n",
              "<table border=\"1\" class=\"dataframe\">\n",
              "  <thead>\n",
              "    <tr style=\"text-align: right;\">\n",
              "      <th></th>\n",
              "      <th>work_year</th>\n",
              "      <th>experience_level</th>\n",
              "      <th>employment_type</th>\n",
              "      <th>job_title</th>\n",
              "      <th>salary</th>\n",
              "      <th>salary_currency</th>\n",
              "      <th>salary_in_usd</th>\n",
              "      <th>employee_residence</th>\n",
              "      <th>remote_ratio</th>\n",
              "      <th>company_location</th>\n",
              "      <th>company_size</th>\n",
              "    </tr>\n",
              "    <tr>\n",
              "      <th>Unnamed: 0</th>\n",
              "      <th></th>\n",
              "      <th></th>\n",
              "      <th></th>\n",
              "      <th></th>\n",
              "      <th></th>\n",
              "      <th></th>\n",
              "      <th></th>\n",
              "      <th></th>\n",
              "      <th></th>\n",
              "      <th></th>\n",
              "      <th></th>\n",
              "    </tr>\n",
              "  </thead>\n",
              "  <tbody>\n",
              "    <tr>\n",
              "      <th>0</th>\n",
              "      <td>2020</td>\n",
              "      <td>MI</td>\n",
              "      <td>FT</td>\n",
              "      <td>Data Scientist</td>\n",
              "      <td>70000</td>\n",
              "      <td>EUR</td>\n",
              "      <td>79833</td>\n",
              "      <td>DE</td>\n",
              "      <td>0</td>\n",
              "      <td>DE</td>\n",
              "      <td>L</td>\n",
              "    </tr>\n",
              "    <tr>\n",
              "      <th>1</th>\n",
              "      <td>2020</td>\n",
              "      <td>SE</td>\n",
              "      <td>FT</td>\n",
              "      <td>Machine Learning Scientist</td>\n",
              "      <td>260000</td>\n",
              "      <td>USD</td>\n",
              "      <td>260000</td>\n",
              "      <td>JP</td>\n",
              "      <td>0</td>\n",
              "      <td>JP</td>\n",
              "      <td>S</td>\n",
              "    </tr>\n",
              "    <tr>\n",
              "      <th>2</th>\n",
              "      <td>2020</td>\n",
              "      <td>SE</td>\n",
              "      <td>FT</td>\n",
              "      <td>Big Data Engineer</td>\n",
              "      <td>85000</td>\n",
              "      <td>GBP</td>\n",
              "      <td>109024</td>\n",
              "      <td>GB</td>\n",
              "      <td>50</td>\n",
              "      <td>GB</td>\n",
              "      <td>M</td>\n",
              "    </tr>\n",
              "    <tr>\n",
              "      <th>3</th>\n",
              "      <td>2020</td>\n",
              "      <td>MI</td>\n",
              "      <td>FT</td>\n",
              "      <td>Product Data Analyst</td>\n",
              "      <td>20000</td>\n",
              "      <td>USD</td>\n",
              "      <td>20000</td>\n",
              "      <td>HN</td>\n",
              "      <td>0</td>\n",
              "      <td>HN</td>\n",
              "      <td>S</td>\n",
              "    </tr>\n",
              "    <tr>\n",
              "      <th>4</th>\n",
              "      <td>2020</td>\n",
              "      <td>SE</td>\n",
              "      <td>FT</td>\n",
              "      <td>Machine Learning Engineer</td>\n",
              "      <td>150000</td>\n",
              "      <td>USD</td>\n",
              "      <td>150000</td>\n",
              "      <td>US</td>\n",
              "      <td>50</td>\n",
              "      <td>US</td>\n",
              "      <td>L</td>\n",
              "    </tr>\n",
              "  </tbody>\n",
              "</table>\n",
              "</div>\n",
              "      <button class=\"colab-df-convert\" onclick=\"convertToInteractive('df-53b85623-bdc4-4bc0-a09b-7ce86a9e3c22')\"\n",
              "              title=\"Convert this dataframe to an interactive table.\"\n",
              "              style=\"display:none;\">\n",
              "        \n",
              "  <svg xmlns=\"http://www.w3.org/2000/svg\" height=\"24px\"viewBox=\"0 0 24 24\"\n",
              "       width=\"24px\">\n",
              "    <path d=\"M0 0h24v24H0V0z\" fill=\"none\"/>\n",
              "    <path d=\"M18.56 5.44l.94 2.06.94-2.06 2.06-.94-2.06-.94-.94-2.06-.94 2.06-2.06.94zm-11 1L8.5 8.5l.94-2.06 2.06-.94-2.06-.94L8.5 2.5l-.94 2.06-2.06.94zm10 10l.94 2.06.94-2.06 2.06-.94-2.06-.94-.94-2.06-.94 2.06-2.06.94z\"/><path d=\"M17.41 7.96l-1.37-1.37c-.4-.4-.92-.59-1.43-.59-.52 0-1.04.2-1.43.59L10.3 9.45l-7.72 7.72c-.78.78-.78 2.05 0 2.83L4 21.41c.39.39.9.59 1.41.59.51 0 1.02-.2 1.41-.59l7.78-7.78 2.81-2.81c.8-.78.8-2.07 0-2.86zM5.41 20L4 18.59l7.72-7.72 1.47 1.35L5.41 20z\"/>\n",
              "  </svg>\n",
              "      </button>\n",
              "      \n",
              "  <style>\n",
              "    .colab-df-container {\n",
              "      display:flex;\n",
              "      flex-wrap:wrap;\n",
              "      gap: 12px;\n",
              "    }\n",
              "\n",
              "    .colab-df-convert {\n",
              "      background-color: #E8F0FE;\n",
              "      border: none;\n",
              "      border-radius: 50%;\n",
              "      cursor: pointer;\n",
              "      display: none;\n",
              "      fill: #1967D2;\n",
              "      height: 32px;\n",
              "      padding: 0 0 0 0;\n",
              "      width: 32px;\n",
              "    }\n",
              "\n",
              "    .colab-df-convert:hover {\n",
              "      background-color: #E2EBFA;\n",
              "      box-shadow: 0px 1px 2px rgba(60, 64, 67, 0.3), 0px 1px 3px 1px rgba(60, 64, 67, 0.15);\n",
              "      fill: #174EA6;\n",
              "    }\n",
              "\n",
              "    [theme=dark] .colab-df-convert {\n",
              "      background-color: #3B4455;\n",
              "      fill: #D2E3FC;\n",
              "    }\n",
              "\n",
              "    [theme=dark] .colab-df-convert:hover {\n",
              "      background-color: #434B5C;\n",
              "      box-shadow: 0px 1px 3px 1px rgba(0, 0, 0, 0.15);\n",
              "      filter: drop-shadow(0px 1px 2px rgba(0, 0, 0, 0.3));\n",
              "      fill: #FFFFFF;\n",
              "    }\n",
              "  </style>\n",
              "\n",
              "      <script>\n",
              "        const buttonEl =\n",
              "          document.querySelector('#df-53b85623-bdc4-4bc0-a09b-7ce86a9e3c22 button.colab-df-convert');\n",
              "        buttonEl.style.display =\n",
              "          google.colab.kernel.accessAllowed ? 'block' : 'none';\n",
              "\n",
              "        async function convertToInteractive(key) {\n",
              "          const element = document.querySelector('#df-53b85623-bdc4-4bc0-a09b-7ce86a9e3c22');\n",
              "          const dataTable =\n",
              "            await google.colab.kernel.invokeFunction('convertToInteractive',\n",
              "                                                     [key], {});\n",
              "          if (!dataTable) return;\n",
              "\n",
              "          const docLinkHtml = 'Like what you see? Visit the ' +\n",
              "            '<a target=\"_blank\" href=https://colab.research.google.com/notebooks/data_table.ipynb>data table notebook</a>'\n",
              "            + ' to learn more about interactive tables.';\n",
              "          element.innerHTML = '';\n",
              "          dataTable['output_type'] = 'display_data';\n",
              "          await google.colab.output.renderOutput(dataTable, element);\n",
              "          const docLink = document.createElement('div');\n",
              "          docLink.innerHTML = docLinkHtml;\n",
              "          element.appendChild(docLink);\n",
              "        }\n",
              "      </script>\n",
              "    </div>\n",
              "  </div>\n",
              "  "
            ]
          },
          "metadata": {},
          "execution_count": 6
        }
      ]
    },
    {
      "cell_type": "code",
      "source": [
        "df.info()"
      ],
      "metadata": {
        "colab": {
          "base_uri": "https://localhost:8080/"
        },
        "id": "njVOR6rpSKpr",
        "outputId": "4119ef12-c360-4144-bcaa-36c443943a2c"
      },
      "id": "njVOR6rpSKpr",
      "execution_count": 7,
      "outputs": [
        {
          "output_type": "stream",
          "name": "stdout",
          "text": [
            "<class 'pandas.core.frame.DataFrame'>\n",
            "Int64Index: 607 entries, 0 to 606\n",
            "Data columns (total 11 columns):\n",
            " #   Column              Non-Null Count  Dtype \n",
            "---  ------              --------------  ----- \n",
            " 0   work_year           607 non-null    int64 \n",
            " 1   experience_level    607 non-null    object\n",
            " 2   employment_type     607 non-null    object\n",
            " 3   job_title           607 non-null    object\n",
            " 4   salary              607 non-null    int64 \n",
            " 5   salary_currency     607 non-null    object\n",
            " 6   salary_in_usd       607 non-null    int64 \n",
            " 7   employee_residence  607 non-null    object\n",
            " 8   remote_ratio        607 non-null    int64 \n",
            " 9   company_location    607 non-null    object\n",
            " 10  company_size        607 non-null    object\n",
            "dtypes: int64(4), object(7)\n",
            "memory usage: 56.9+ KB\n"
          ]
        }
      ]
    },
    {
      "cell_type": "code",
      "source": [
        "df.describe()"
      ],
      "metadata": {
        "colab": {
          "base_uri": "https://localhost:8080/",
          "height": 300
        },
        "id": "amD00bXJSTKE",
        "outputId": "4916ac8a-8c1b-426b-87bc-0a5a33531815"
      },
      "id": "amD00bXJSTKE",
      "execution_count": 8,
      "outputs": [
        {
          "output_type": "execute_result",
          "data": {
            "text/plain": [
              "         work_year        salary  salary_in_usd  remote_ratio\n",
              "count   607.000000  6.070000e+02     607.000000     607.00000\n",
              "mean   2021.405272  3.240001e+05  112297.869852      70.92257\n",
              "std       0.692133  1.544357e+06   70957.259411      40.70913\n",
              "min    2020.000000  4.000000e+03    2859.000000       0.00000\n",
              "25%    2021.000000  7.000000e+04   62726.000000      50.00000\n",
              "50%    2022.000000  1.150000e+05  101570.000000     100.00000\n",
              "75%    2022.000000  1.650000e+05  150000.000000     100.00000\n",
              "max    2022.000000  3.040000e+07  600000.000000     100.00000"
            ],
            "text/html": [
              "\n",
              "  <div id=\"df-324eddbc-90ea-48a6-840a-1bd725068262\">\n",
              "    <div class=\"colab-df-container\">\n",
              "      <div>\n",
              "<style scoped>\n",
              "    .dataframe tbody tr th:only-of-type {\n",
              "        vertical-align: middle;\n",
              "    }\n",
              "\n",
              "    .dataframe tbody tr th {\n",
              "        vertical-align: top;\n",
              "    }\n",
              "\n",
              "    .dataframe thead th {\n",
              "        text-align: right;\n",
              "    }\n",
              "</style>\n",
              "<table border=\"1\" class=\"dataframe\">\n",
              "  <thead>\n",
              "    <tr style=\"text-align: right;\">\n",
              "      <th></th>\n",
              "      <th>work_year</th>\n",
              "      <th>salary</th>\n",
              "      <th>salary_in_usd</th>\n",
              "      <th>remote_ratio</th>\n",
              "    </tr>\n",
              "  </thead>\n",
              "  <tbody>\n",
              "    <tr>\n",
              "      <th>count</th>\n",
              "      <td>607.000000</td>\n",
              "      <td>6.070000e+02</td>\n",
              "      <td>607.000000</td>\n",
              "      <td>607.00000</td>\n",
              "    </tr>\n",
              "    <tr>\n",
              "      <th>mean</th>\n",
              "      <td>2021.405272</td>\n",
              "      <td>3.240001e+05</td>\n",
              "      <td>112297.869852</td>\n",
              "      <td>70.92257</td>\n",
              "    </tr>\n",
              "    <tr>\n",
              "      <th>std</th>\n",
              "      <td>0.692133</td>\n",
              "      <td>1.544357e+06</td>\n",
              "      <td>70957.259411</td>\n",
              "      <td>40.70913</td>\n",
              "    </tr>\n",
              "    <tr>\n",
              "      <th>min</th>\n",
              "      <td>2020.000000</td>\n",
              "      <td>4.000000e+03</td>\n",
              "      <td>2859.000000</td>\n",
              "      <td>0.00000</td>\n",
              "    </tr>\n",
              "    <tr>\n",
              "      <th>25%</th>\n",
              "      <td>2021.000000</td>\n",
              "      <td>7.000000e+04</td>\n",
              "      <td>62726.000000</td>\n",
              "      <td>50.00000</td>\n",
              "    </tr>\n",
              "    <tr>\n",
              "      <th>50%</th>\n",
              "      <td>2022.000000</td>\n",
              "      <td>1.150000e+05</td>\n",
              "      <td>101570.000000</td>\n",
              "      <td>100.00000</td>\n",
              "    </tr>\n",
              "    <tr>\n",
              "      <th>75%</th>\n",
              "      <td>2022.000000</td>\n",
              "      <td>1.650000e+05</td>\n",
              "      <td>150000.000000</td>\n",
              "      <td>100.00000</td>\n",
              "    </tr>\n",
              "    <tr>\n",
              "      <th>max</th>\n",
              "      <td>2022.000000</td>\n",
              "      <td>3.040000e+07</td>\n",
              "      <td>600000.000000</td>\n",
              "      <td>100.00000</td>\n",
              "    </tr>\n",
              "  </tbody>\n",
              "</table>\n",
              "</div>\n",
              "      <button class=\"colab-df-convert\" onclick=\"convertToInteractive('df-324eddbc-90ea-48a6-840a-1bd725068262')\"\n",
              "              title=\"Convert this dataframe to an interactive table.\"\n",
              "              style=\"display:none;\">\n",
              "        \n",
              "  <svg xmlns=\"http://www.w3.org/2000/svg\" height=\"24px\"viewBox=\"0 0 24 24\"\n",
              "       width=\"24px\">\n",
              "    <path d=\"M0 0h24v24H0V0z\" fill=\"none\"/>\n",
              "    <path d=\"M18.56 5.44l.94 2.06.94-2.06 2.06-.94-2.06-.94-.94-2.06-.94 2.06-2.06.94zm-11 1L8.5 8.5l.94-2.06 2.06-.94-2.06-.94L8.5 2.5l-.94 2.06-2.06.94zm10 10l.94 2.06.94-2.06 2.06-.94-2.06-.94-.94-2.06-.94 2.06-2.06.94z\"/><path d=\"M17.41 7.96l-1.37-1.37c-.4-.4-.92-.59-1.43-.59-.52 0-1.04.2-1.43.59L10.3 9.45l-7.72 7.72c-.78.78-.78 2.05 0 2.83L4 21.41c.39.39.9.59 1.41.59.51 0 1.02-.2 1.41-.59l7.78-7.78 2.81-2.81c.8-.78.8-2.07 0-2.86zM5.41 20L4 18.59l7.72-7.72 1.47 1.35L5.41 20z\"/>\n",
              "  </svg>\n",
              "      </button>\n",
              "      \n",
              "  <style>\n",
              "    .colab-df-container {\n",
              "      display:flex;\n",
              "      flex-wrap:wrap;\n",
              "      gap: 12px;\n",
              "    }\n",
              "\n",
              "    .colab-df-convert {\n",
              "      background-color: #E8F0FE;\n",
              "      border: none;\n",
              "      border-radius: 50%;\n",
              "      cursor: pointer;\n",
              "      display: none;\n",
              "      fill: #1967D2;\n",
              "      height: 32px;\n",
              "      padding: 0 0 0 0;\n",
              "      width: 32px;\n",
              "    }\n",
              "\n",
              "    .colab-df-convert:hover {\n",
              "      background-color: #E2EBFA;\n",
              "      box-shadow: 0px 1px 2px rgba(60, 64, 67, 0.3), 0px 1px 3px 1px rgba(60, 64, 67, 0.15);\n",
              "      fill: #174EA6;\n",
              "    }\n",
              "\n",
              "    [theme=dark] .colab-df-convert {\n",
              "      background-color: #3B4455;\n",
              "      fill: #D2E3FC;\n",
              "    }\n",
              "\n",
              "    [theme=dark] .colab-df-convert:hover {\n",
              "      background-color: #434B5C;\n",
              "      box-shadow: 0px 1px 3px 1px rgba(0, 0, 0, 0.15);\n",
              "      filter: drop-shadow(0px 1px 2px rgba(0, 0, 0, 0.3));\n",
              "      fill: #FFFFFF;\n",
              "    }\n",
              "  </style>\n",
              "\n",
              "      <script>\n",
              "        const buttonEl =\n",
              "          document.querySelector('#df-324eddbc-90ea-48a6-840a-1bd725068262 button.colab-df-convert');\n",
              "        buttonEl.style.display =\n",
              "          google.colab.kernel.accessAllowed ? 'block' : 'none';\n",
              "\n",
              "        async function convertToInteractive(key) {\n",
              "          const element = document.querySelector('#df-324eddbc-90ea-48a6-840a-1bd725068262');\n",
              "          const dataTable =\n",
              "            await google.colab.kernel.invokeFunction('convertToInteractive',\n",
              "                                                     [key], {});\n",
              "          if (!dataTable) return;\n",
              "\n",
              "          const docLinkHtml = 'Like what you see? Visit the ' +\n",
              "            '<a target=\"_blank\" href=https://colab.research.google.com/notebooks/data_table.ipynb>data table notebook</a>'\n",
              "            + ' to learn more about interactive tables.';\n",
              "          element.innerHTML = '';\n",
              "          dataTable['output_type'] = 'display_data';\n",
              "          await google.colab.output.renderOutput(dataTable, element);\n",
              "          const docLink = document.createElement('div');\n",
              "          docLink.innerHTML = docLinkHtml;\n",
              "          element.appendChild(docLink);\n",
              "        }\n",
              "      </script>\n",
              "    </div>\n",
              "  </div>\n",
              "  "
            ]
          },
          "metadata": {},
          "execution_count": 8
        }
      ]
    },
    {
      "cell_type": "markdown",
      "source": [
        "* Выведите отдельно интересующую вас колонку и столбец"
      ],
      "metadata": {
        "id": "3xTld3-gSx6C"
      },
      "id": "3xTld3-gSx6C"
    },
    {
      "cell_type": "code",
      "source": [
        "df['salary']"
      ],
      "metadata": {
        "colab": {
          "base_uri": "https://localhost:8080/"
        },
        "id": "bud2-0-dS1P-",
        "outputId": "9b499273-da3f-43a1-863e-9ef7c9d82111"
      },
      "id": "bud2-0-dS1P-",
      "execution_count": 9,
      "outputs": [
        {
          "output_type": "execute_result",
          "data": {
            "text/plain": [
              "Unnamed: 0\n",
              "0       70000\n",
              "1      260000\n",
              "2       85000\n",
              "3       20000\n",
              "4      150000\n",
              "        ...  \n",
              "602    154000\n",
              "603    126000\n",
              "604    129000\n",
              "605    150000\n",
              "606    200000\n",
              "Name: salary, Length: 607, dtype: int64"
            ]
          },
          "metadata": {},
          "execution_count": 9
        }
      ]
    },
    {
      "cell_type": "code",
      "source": [
        "df.job_title"
      ],
      "metadata": {
        "colab": {
          "base_uri": "https://localhost:8080/"
        },
        "id": "6qo3Vv2dTKgU",
        "outputId": "b2101285-eeb0-4c78-f9f4-1d8e51cf5900"
      },
      "id": "6qo3Vv2dTKgU",
      "execution_count": 10,
      "outputs": [
        {
          "output_type": "execute_result",
          "data": {
            "text/plain": [
              "Unnamed: 0\n",
              "0                  Data Scientist\n",
              "1      Machine Learning Scientist\n",
              "2               Big Data Engineer\n",
              "3            Product Data Analyst\n",
              "4       Machine Learning Engineer\n",
              "                  ...            \n",
              "602                 Data Engineer\n",
              "603                 Data Engineer\n",
              "604                  Data Analyst\n",
              "605                  Data Analyst\n",
              "606                  AI Scientist\n",
              "Name: job_title, Length: 607, dtype: object"
            ]
          },
          "metadata": {},
          "execution_count": 10
        }
      ]
    },
    {
      "cell_type": "code",
      "source": [
        "df.iloc[3]"
      ],
      "metadata": {
        "colab": {
          "base_uri": "https://localhost:8080/"
        },
        "id": "i781_pB3TbKe",
        "outputId": "ea48e867-047c-4068-d4ba-1c7b1711972d"
      },
      "id": "i781_pB3TbKe",
      "execution_count": 11,
      "outputs": [
        {
          "output_type": "execute_result",
          "data": {
            "text/plain": [
              "work_year                             2020\n",
              "experience_level                        MI\n",
              "employment_type                         FT\n",
              "job_title             Product Data Analyst\n",
              "salary                               20000\n",
              "salary_currency                        USD\n",
              "salary_in_usd                        20000\n",
              "employee_residence                      HN\n",
              "remote_ratio                             0\n",
              "company_location                        HN\n",
              "company_size                             S\n",
              "Name: 3, dtype: object"
            ]
          },
          "metadata": {},
          "execution_count": 11
        }
      ]
    },
    {
      "cell_type": "code",
      "source": [
        "df[10:15]"
      ],
      "metadata": {
        "colab": {
          "base_uri": "https://localhost:8080/",
          "height": 237
        },
        "id": "4Si6BgDyTqHc",
        "outputId": "edd072a9-d43b-45ae-d56d-cd1cf8013bf3"
      },
      "id": "4Si6BgDyTqHc",
      "execution_count": 12,
      "outputs": [
        {
          "output_type": "execute_result",
          "data": {
            "text/plain": [
              "            work_year experience_level employment_type          job_title  \\\n",
              "Unnamed: 0                                                                  \n",
              "10               2020               EN              FT     Data Scientist   \n",
              "11               2020               MI              FT     Data Scientist   \n",
              "12               2020               EN              FT     Data Scientist   \n",
              "13               2020               MI              FT  Lead Data Analyst   \n",
              "14               2020               MI              FT       Data Analyst   \n",
              "\n",
              "             salary salary_currency  salary_in_usd employee_residence  \\\n",
              "Unnamed: 0                                                              \n",
              "10            45000             EUR          51321                 FR   \n",
              "11          3000000             INR          40481                 IN   \n",
              "12            35000             EUR          39916                 FR   \n",
              "13            87000             USD          87000                 US   \n",
              "14            85000             USD          85000                 US   \n",
              "\n",
              "            remote_ratio company_location company_size  \n",
              "Unnamed: 0                                              \n",
              "10                     0               FR            S  \n",
              "11                     0               IN            L  \n",
              "12                     0               FR            M  \n",
              "13                   100               US            L  \n",
              "14                   100               US            L  "
            ],
            "text/html": [
              "\n",
              "  <div id=\"df-f63898a0-c784-4605-a822-2981cebc2e03\">\n",
              "    <div class=\"colab-df-container\">\n",
              "      <div>\n",
              "<style scoped>\n",
              "    .dataframe tbody tr th:only-of-type {\n",
              "        vertical-align: middle;\n",
              "    }\n",
              "\n",
              "    .dataframe tbody tr th {\n",
              "        vertical-align: top;\n",
              "    }\n",
              "\n",
              "    .dataframe thead th {\n",
              "        text-align: right;\n",
              "    }\n",
              "</style>\n",
              "<table border=\"1\" class=\"dataframe\">\n",
              "  <thead>\n",
              "    <tr style=\"text-align: right;\">\n",
              "      <th></th>\n",
              "      <th>work_year</th>\n",
              "      <th>experience_level</th>\n",
              "      <th>employment_type</th>\n",
              "      <th>job_title</th>\n",
              "      <th>salary</th>\n",
              "      <th>salary_currency</th>\n",
              "      <th>salary_in_usd</th>\n",
              "      <th>employee_residence</th>\n",
              "      <th>remote_ratio</th>\n",
              "      <th>company_location</th>\n",
              "      <th>company_size</th>\n",
              "    </tr>\n",
              "    <tr>\n",
              "      <th>Unnamed: 0</th>\n",
              "      <th></th>\n",
              "      <th></th>\n",
              "      <th></th>\n",
              "      <th></th>\n",
              "      <th></th>\n",
              "      <th></th>\n",
              "      <th></th>\n",
              "      <th></th>\n",
              "      <th></th>\n",
              "      <th></th>\n",
              "      <th></th>\n",
              "    </tr>\n",
              "  </thead>\n",
              "  <tbody>\n",
              "    <tr>\n",
              "      <th>10</th>\n",
              "      <td>2020</td>\n",
              "      <td>EN</td>\n",
              "      <td>FT</td>\n",
              "      <td>Data Scientist</td>\n",
              "      <td>45000</td>\n",
              "      <td>EUR</td>\n",
              "      <td>51321</td>\n",
              "      <td>FR</td>\n",
              "      <td>0</td>\n",
              "      <td>FR</td>\n",
              "      <td>S</td>\n",
              "    </tr>\n",
              "    <tr>\n",
              "      <th>11</th>\n",
              "      <td>2020</td>\n",
              "      <td>MI</td>\n",
              "      <td>FT</td>\n",
              "      <td>Data Scientist</td>\n",
              "      <td>3000000</td>\n",
              "      <td>INR</td>\n",
              "      <td>40481</td>\n",
              "      <td>IN</td>\n",
              "      <td>0</td>\n",
              "      <td>IN</td>\n",
              "      <td>L</td>\n",
              "    </tr>\n",
              "    <tr>\n",
              "      <th>12</th>\n",
              "      <td>2020</td>\n",
              "      <td>EN</td>\n",
              "      <td>FT</td>\n",
              "      <td>Data Scientist</td>\n",
              "      <td>35000</td>\n",
              "      <td>EUR</td>\n",
              "      <td>39916</td>\n",
              "      <td>FR</td>\n",
              "      <td>0</td>\n",
              "      <td>FR</td>\n",
              "      <td>M</td>\n",
              "    </tr>\n",
              "    <tr>\n",
              "      <th>13</th>\n",
              "      <td>2020</td>\n",
              "      <td>MI</td>\n",
              "      <td>FT</td>\n",
              "      <td>Lead Data Analyst</td>\n",
              "      <td>87000</td>\n",
              "      <td>USD</td>\n",
              "      <td>87000</td>\n",
              "      <td>US</td>\n",
              "      <td>100</td>\n",
              "      <td>US</td>\n",
              "      <td>L</td>\n",
              "    </tr>\n",
              "    <tr>\n",
              "      <th>14</th>\n",
              "      <td>2020</td>\n",
              "      <td>MI</td>\n",
              "      <td>FT</td>\n",
              "      <td>Data Analyst</td>\n",
              "      <td>85000</td>\n",
              "      <td>USD</td>\n",
              "      <td>85000</td>\n",
              "      <td>US</td>\n",
              "      <td>100</td>\n",
              "      <td>US</td>\n",
              "      <td>L</td>\n",
              "    </tr>\n",
              "  </tbody>\n",
              "</table>\n",
              "</div>\n",
              "      <button class=\"colab-df-convert\" onclick=\"convertToInteractive('df-f63898a0-c784-4605-a822-2981cebc2e03')\"\n",
              "              title=\"Convert this dataframe to an interactive table.\"\n",
              "              style=\"display:none;\">\n",
              "        \n",
              "  <svg xmlns=\"http://www.w3.org/2000/svg\" height=\"24px\"viewBox=\"0 0 24 24\"\n",
              "       width=\"24px\">\n",
              "    <path d=\"M0 0h24v24H0V0z\" fill=\"none\"/>\n",
              "    <path d=\"M18.56 5.44l.94 2.06.94-2.06 2.06-.94-2.06-.94-.94-2.06-.94 2.06-2.06.94zm-11 1L8.5 8.5l.94-2.06 2.06-.94-2.06-.94L8.5 2.5l-.94 2.06-2.06.94zm10 10l.94 2.06.94-2.06 2.06-.94-2.06-.94-.94-2.06-.94 2.06-2.06.94z\"/><path d=\"M17.41 7.96l-1.37-1.37c-.4-.4-.92-.59-1.43-.59-.52 0-1.04.2-1.43.59L10.3 9.45l-7.72 7.72c-.78.78-.78 2.05 0 2.83L4 21.41c.39.39.9.59 1.41.59.51 0 1.02-.2 1.41-.59l7.78-7.78 2.81-2.81c.8-.78.8-2.07 0-2.86zM5.41 20L4 18.59l7.72-7.72 1.47 1.35L5.41 20z\"/>\n",
              "  </svg>\n",
              "      </button>\n",
              "      \n",
              "  <style>\n",
              "    .colab-df-container {\n",
              "      display:flex;\n",
              "      flex-wrap:wrap;\n",
              "      gap: 12px;\n",
              "    }\n",
              "\n",
              "    .colab-df-convert {\n",
              "      background-color: #E8F0FE;\n",
              "      border: none;\n",
              "      border-radius: 50%;\n",
              "      cursor: pointer;\n",
              "      display: none;\n",
              "      fill: #1967D2;\n",
              "      height: 32px;\n",
              "      padding: 0 0 0 0;\n",
              "      width: 32px;\n",
              "    }\n",
              "\n",
              "    .colab-df-convert:hover {\n",
              "      background-color: #E2EBFA;\n",
              "      box-shadow: 0px 1px 2px rgba(60, 64, 67, 0.3), 0px 1px 3px 1px rgba(60, 64, 67, 0.15);\n",
              "      fill: #174EA6;\n",
              "    }\n",
              "\n",
              "    [theme=dark] .colab-df-convert {\n",
              "      background-color: #3B4455;\n",
              "      fill: #D2E3FC;\n",
              "    }\n",
              "\n",
              "    [theme=dark] .colab-df-convert:hover {\n",
              "      background-color: #434B5C;\n",
              "      box-shadow: 0px 1px 3px 1px rgba(0, 0, 0, 0.15);\n",
              "      filter: drop-shadow(0px 1px 2px rgba(0, 0, 0, 0.3));\n",
              "      fill: #FFFFFF;\n",
              "    }\n",
              "  </style>\n",
              "\n",
              "      <script>\n",
              "        const buttonEl =\n",
              "          document.querySelector('#df-f63898a0-c784-4605-a822-2981cebc2e03 button.colab-df-convert');\n",
              "        buttonEl.style.display =\n",
              "          google.colab.kernel.accessAllowed ? 'block' : 'none';\n",
              "\n",
              "        async function convertToInteractive(key) {\n",
              "          const element = document.querySelector('#df-f63898a0-c784-4605-a822-2981cebc2e03');\n",
              "          const dataTable =\n",
              "            await google.colab.kernel.invokeFunction('convertToInteractive',\n",
              "                                                     [key], {});\n",
              "          if (!dataTable) return;\n",
              "\n",
              "          const docLinkHtml = 'Like what you see? Visit the ' +\n",
              "            '<a target=\"_blank\" href=https://colab.research.google.com/notebooks/data_table.ipynb>data table notebook</a>'\n",
              "            + ' to learn more about interactive tables.';\n",
              "          element.innerHTML = '';\n",
              "          dataTable['output_type'] = 'display_data';\n",
              "          await google.colab.output.renderOutput(dataTable, element);\n",
              "          const docLink = document.createElement('div');\n",
              "          docLink.innerHTML = docLinkHtml;\n",
              "          element.appendChild(docLink);\n",
              "        }\n",
              "      </script>\n",
              "    </div>\n",
              "  </div>\n",
              "  "
            ]
          },
          "metadata": {},
          "execution_count": 12
        }
      ]
    },
    {
      "cell_type": "markdown",
      "id": "recovered-jordan",
      "metadata": {
        "id": "recovered-jordan"
      },
      "source": [
        "### Numpy\n",
        "\n",
        "Для некоторых заданий, возможно, придется обратиться к документации: https://numpy.org\n"
      ]
    },
    {
      "cell_type": "markdown",
      "source": [
        "* Создайте вектор (одномерный массив) размера 10, заполненный нулями"
      ],
      "metadata": {
        "id": "tFAQkHTpUEMr"
      },
      "id": "tFAQkHTpUEMr"
    },
    {
      "cell_type": "code",
      "source": [
        "vector = np.zeros(10)\n",
        "vector"
      ],
      "metadata": {
        "colab": {
          "base_uri": "https://localhost:8080/"
        },
        "id": "HpU9SbdvUGC0",
        "outputId": "f618484c-3fa1-4fbc-cb2e-40161ad5bc8a"
      },
      "id": "HpU9SbdvUGC0",
      "execution_count": 14,
      "outputs": [
        {
          "output_type": "execute_result",
          "data": {
            "text/plain": [
              "array([0., 0., 0., 0., 0., 0., 0., 0., 0., 0.])"
            ]
          },
          "metadata": {},
          "execution_count": 14
        }
      ]
    },
    {
      "cell_type": "markdown",
      "source": [
        "* Создайте вектор размера 10, заполненный числом 5.8"
      ],
      "metadata": {
        "id": "yE_Xo1MDUdDs"
      },
      "id": "yE_Xo1MDUdDs"
    },
    {
      "cell_type": "code",
      "source": [
        "vector = 5.8 * np.ones(10)\n",
        "vector"
      ],
      "metadata": {
        "colab": {
          "base_uri": "https://localhost:8080/"
        },
        "id": "8OKsfWSyUrKU",
        "outputId": "f9c137ec-d72d-40c1-a3a9-a7281f75d8f3"
      },
      "id": "8OKsfWSyUrKU",
      "execution_count": 15,
      "outputs": [
        {
          "output_type": "execute_result",
          "data": {
            "text/plain": [
              "array([5.8, 5.8, 5.8, 5.8, 5.8, 5.8, 5.8, 5.8, 5.8, 5.8])"
            ]
          },
          "metadata": {},
          "execution_count": 15
        }
      ]
    },
    {
      "cell_type": "markdown",
      "source": [
        "* Создйте массив 3x3x3 со случайными значениями"
      ],
      "metadata": {
        "id": "PEVIFc40VBse"
      },
      "id": "PEVIFc40VBse"
    },
    {
      "cell_type": "code",
      "source": [
        "array = np.random.random([3, 3, 3])\n",
        "array"
      ],
      "metadata": {
        "colab": {
          "base_uri": "https://localhost:8080/"
        },
        "id": "P5RFoVKFVGOp",
        "outputId": "91e7e1ca-70ca-4315-e09a-53b138f732ee"
      },
      "id": "P5RFoVKFVGOp",
      "execution_count": 17,
      "outputs": [
        {
          "output_type": "execute_result",
          "data": {
            "text/plain": [
              "array([[[0.66452727, 0.25356327, 0.6849004 ],\n",
              "        [0.85899896, 0.40109447, 0.10260639],\n",
              "        [0.46214964, 0.64664128, 0.26267609]],\n",
              "\n",
              "       [[0.15371765, 0.69569007, 0.66515908],\n",
              "        [0.36194786, 0.94010279, 0.58519247],\n",
              "        [0.97036537, 0.64649608, 0.00699154]],\n",
              "\n",
              "       [[0.90354612, 0.41318897, 0.60749506],\n",
              "        [0.68679257, 0.76449343, 0.38175309],\n",
              "        [0.70142477, 0.04724661, 0.18815714]]])"
            ]
          },
          "metadata": {},
          "execution_count": 17
        }
      ]
    },
    {
      "cell_type": "markdown",
      "source": [
        "* Создайте 8x8 матрицу и заполнить её в шахматном порядке"
      ],
      "metadata": {
        "id": "Wa7avo1eVmBm"
      },
      "id": "Wa7avo1eVmBm"
    },
    {
      "cell_type": "code",
      "source": [
        "matrix = np.zeros((8,8),dtype=int)\n",
        "matrix[1::2,::2] = 1\n",
        "matrix[::2,1::2] = 1\n",
        "matrix"
      ],
      "metadata": {
        "colab": {
          "base_uri": "https://localhost:8080/"
        },
        "id": "Hyfwr2xyVqKv",
        "outputId": "62b3aac5-9072-4ffb-83bf-7839d4dbc227"
      },
      "id": "Hyfwr2xyVqKv",
      "execution_count": 18,
      "outputs": [
        {
          "output_type": "execute_result",
          "data": {
            "text/plain": [
              "array([[0, 1, 0, 1, 0, 1, 0, 1],\n",
              "       [1, 0, 1, 0, 1, 0, 1, 0],\n",
              "       [0, 1, 0, 1, 0, 1, 0, 1],\n",
              "       [1, 0, 1, 0, 1, 0, 1, 0],\n",
              "       [0, 1, 0, 1, 0, 1, 0, 1],\n",
              "       [1, 0, 1, 0, 1, 0, 1, 0],\n",
              "       [0, 1, 0, 1, 0, 1, 0, 1],\n",
              "       [1, 0, 1, 0, 1, 0, 1, 0]])"
            ]
          },
          "metadata": {},
          "execution_count": 18
        }
      ]
    },
    {
      "cell_type": "markdown",
      "source": [
        "* Cоздайте матрицу 4 на 4 и заполните ее произвольными числами (понадобиться в дальйнешем)"
      ],
      "metadata": {
        "id": "7V6OILxdWQ5q"
      },
      "id": "7V6OILxdWQ5q"
    },
    {
      "cell_type": "code",
      "source": [
        "matrix = np.random.randint(1, 10, [4, 4])\n",
        "matrix"
      ],
      "metadata": {
        "colab": {
          "base_uri": "https://localhost:8080/"
        },
        "id": "gxHroqpSWW1e",
        "outputId": "37cb31f6-aa89-4eec-9886-e03e711aec13"
      },
      "id": "gxHroqpSWW1e",
      "execution_count": 19,
      "outputs": [
        {
          "output_type": "execute_result",
          "data": {
            "text/plain": [
              "array([[2, 2, 1, 9],\n",
              "       [7, 8, 1, 6],\n",
              "       [2, 9, 6, 4],\n",
              "       [1, 9, 4, 7]])"
            ]
          },
          "metadata": {},
          "execution_count": 19
        }
      ]
    },
    {
      "cell_type": "markdown",
      "id": "expired-hebrew",
      "metadata": {
        "id": "expired-hebrew"
      },
      "source": [
        "### Scipy\n"
      ]
    },
    {
      "cell_type": "markdown",
      "source": [
        "* Возьмите интеграл $\\int_{-3}^{10} sin(x)* x^{2} \\,dx $"
      ],
      "metadata": {
        "id": "I7YbUWGJWyCZ"
      },
      "id": "I7YbUWGJWyCZ"
    },
    {
      "cell_type": "code",
      "source": [
        "func = lambda x: np.sin(x) * x**2\n",
        "integrate.quad(func, -3, 10)"
      ],
      "metadata": {
        "colab": {
          "base_uri": "https://localhost:8080/"
        },
        "id": "67yC1FFvXIkR",
        "outputId": "e2a2f531-ef49-4b8d-8e9a-e0b31aa0d37f"
      },
      "id": "67yC1FFvXIkR",
      "execution_count": 21,
      "outputs": [
        {
          "output_type": "execute_result",
          "data": {
            "text/plain": [
              "(63.57192010714263, 2.177803784883395e-12)"
            ]
          },
          "metadata": {},
          "execution_count": 21
        }
      ]
    },
    {
      "cell_type": "markdown",
      "source": [
        "* Найдите определитель, обратную матрицу и собственные значения к матрице из последнего пункта раздела Numpy"
      ],
      "metadata": {
        "id": "T3IhAsR1YaMZ"
      },
      "id": "T3IhAsR1YaMZ"
    },
    {
      "cell_type": "code",
      "source": [
        "linalg.det(matrix)"
      ],
      "metadata": {
        "colab": {
          "base_uri": "https://localhost:8080/"
        },
        "id": "7x5KXeTCYcoj",
        "outputId": "a02e2011-b1ae-4780-f9f2-7e5cd762fbc2"
      },
      "id": "7x5KXeTCYcoj",
      "execution_count": 24,
      "outputs": [
        {
          "output_type": "execute_result",
          "data": {
            "text/plain": [
              "1138.0"
            ]
          },
          "metadata": {},
          "execution_count": 24
        }
      ]
    },
    {
      "cell_type": "code",
      "source": [
        "linalg.inv(matrix)"
      ],
      "metadata": {
        "colab": {
          "base_uri": "https://localhost:8080/"
        },
        "id": "6eR1MNnCZAxh",
        "outputId": "c15708d2-d60d-47aa-e660-cf9fc9a45836"
      },
      "id": "6eR1MNnCZAxh",
      "execution_count": 25,
      "outputs": [
        {
          "output_type": "execute_result",
          "data": {
            "text/plain": [
              "array([[ 0.06414763,  0.12038664,  0.15026362, -0.271529  ],\n",
              "       [-0.16168717,  0.05272408, -0.14586995,  0.24604569],\n",
              "       [ 0.14323374, -0.10105448,  0.3629174 , -0.30492091],\n",
              "       [ 0.1168717 , -0.02724077, -0.04130053,  0.03954306]])"
            ]
          },
          "metadata": {},
          "execution_count": 25
        }
      ]
    },
    {
      "cell_type": "code",
      "source": [
        "linalg.eig(matrix)"
      ],
      "metadata": {
        "colab": {
          "base_uri": "https://localhost:8080/"
        },
        "id": "JrXu9_ePZGtT",
        "outputId": "72354154-c500-4add-9a85-fd16696170b2"
      },
      "id": "JrXu9_ePZGtT",
      "execution_count": 26,
      "outputs": [
        {
          "output_type": "execute_result",
          "data": {
            "text/plain": [
              "(array([20.14754937+0.j        ,  0.30398943+5.00730558j,\n",
              "         0.30398943-5.00730558j,  2.24447176+0.j        ]),\n",
              " array([[ 3.60645767e-01+0.j        ,  6.31963541e-01+0.j        ,\n",
              "          6.31963541e-01-0.j        , -2.16131510e-01+0.j        ],\n",
              "        [ 5.24284104e-01+0.j        , -1.84825837e-01-0.49415679j,\n",
              "         -1.84825837e-01+0.49415679j,  4.16643869e-01+0.j        ],\n",
              "        [ 5.40202705e-01+0.j        , -1.76457119e-01+0.32717298j,\n",
              "         -1.76457119e-01-0.32717298j, -8.83003361e-01+0.j        ],\n",
              "        [ 5.50673994e-01+0.j        , -5.84120058e-02+0.42506391j,\n",
              "         -5.84120058e-02-0.42506391j, -3.46936516e-04+0.j        ]]))"
            ]
          },
          "metadata": {},
          "execution_count": 26
        }
      ]
    },
    {
      "cell_type": "markdown",
      "id": "alternate-classification",
      "metadata": {
        "id": "alternate-classification"
      },
      "source": [
        "### Matplotlib/Seaborn"
      ]
    },
    {
      "cell_type": "markdown",
      "source": [
        "* Нарисуйте график sin(x), подпишите оси, добавьте сетку"
      ],
      "metadata": {
        "id": "YwPdJYMLZwIq"
      },
      "id": "YwPdJYMLZwIq"
    },
    {
      "cell_type": "code",
      "execution_count": 29,
      "id": "facial-persian",
      "metadata": {
        "id": "facial-persian",
        "colab": {
          "base_uri": "https://localhost:8080/",
          "height": 295
        },
        "outputId": "50fd8349-5d1a-4539-8c6d-65895642d328"
      },
      "outputs": [
        {
          "output_type": "display_data",
          "data": {
            "text/plain": [
              "<Figure size 432x288 with 1 Axes>"
            ],
            "image/png": "[encoded data removed]"
          },
          "metadata": {
            "needs_background": "light"
          }
        }
      ],
      "source": [
        "x = np.arange(0, 4*np.pi, 0.1)\n",
        "y = np.sin(x)\n",
        "\n",
        "fig = plt.figure()\n",
        "plt.plot(x, y)\n",
        "plt.grid()\n",
        "plt.title('График sin(x)')\n",
        "plt.xlabel('x')\n",
        "plt.ylabel('y')\n",
        "plt.show()"
      ]
    },
    {
      "cell_type": "markdown",
      "source": [
        "* Нарисуйте график sin(x) и cos(x) на одном subplot'е и на разных, задайте цвета, которые вам больше нравятся"
      ],
      "metadata": {
        "id": "J2oks-jtbDuD"
      },
      "id": "J2oks-jtbDuD"
    },
    {
      "cell_type": "code",
      "source": [
        "y_1 = np.cos(x)"
      ],
      "metadata": {
        "id": "LuyXn-eAbHNS"
      },
      "id": "LuyXn-eAbHNS",
      "execution_count": 30,
      "outputs": []
    },
    {
      "cell_type": "code",
      "source": [
        "fig_1 = plt.figure()\n",
        "plt.plot(x, y, '-r', x, y_1, ':g')\n",
        "plt.grid()\n",
        "plt.title('Графики sin и cos')\n",
        "plt.xlabel('x')\n",
        "plt.ylabel('y')\n",
        "plt.show()"
      ],
      "metadata": {
        "colab": {
          "base_uri": "https://localhost:8080/",
          "height": 295
        },
        "id": "485H1btgbQUA",
        "outputId": "cbe8420e-ca48-4baa-b1d6-bf8d1c046455"
      },
      "id": "485H1btgbQUA",
      "execution_count": 33,
      "outputs": [
        {
          "output_type": "display_data",
          "data": {
            "text/plain": [
              "<Figure size 432x288 with 1 Axes>"
            ],
            "image/png": "[encoded data removed]"
          },
          "metadata": {
            "needs_background": "light"
          }
        }
      ]
    },
    {
      "cell_type": "code",
      "source": [
        "plt.figure(figsize = (12, 7))\n",
        "\n",
        "plt.subplot(1, 2, 1)\n",
        "plt.plot(x, y, '--k')\n",
        "\n",
        "plt.subplot(1, 2, 2)\n",
        "plt.plot(x, y_1, '-c')"
      ],
      "metadata": {
        "colab": {
          "base_uri": "https://localhost:8080/",
          "height": 446
        },
        "id": "2WkgJZfucWh3",
        "outputId": "bdc7281c-cf36-4010-ebe5-4d81340ac941"
      },
      "id": "2WkgJZfucWh3",
      "execution_count": 43,
      "outputs": [
        {
          "output_type": "execute_result",
          "data": {
            "text/plain": [
              "[<matplotlib.lines.Line2D at 0x7fb0b9ffaa50>]"
            ]
          },
          "metadata": {},
          "execution_count": 43
        },
        {
          "output_type": "display_data",
          "data": {
            "text/plain": [
              "<Figure size 864x504 with 2 Axes>"
            ],
            "image/png": "[encoded data removed]"
          },
          "metadata": {
            "needs_background": "light"
          }
        }
      ]
    }
  ],
  "metadata": {
    "kernelspec": {
      "display_name": "Python 3",
      "language": "python",
      "name": "python3"
    },
    "language_info": {
      "codemirror_mode": {
        "name": "ipython",
        "version": 3
      },
      "file_extension": ".py",
      "mimetype": "text/x-python",
      "name": "python",
      "nbconvert_exporter": "python",
      "pygments_lexer": "ipython3",
      "version": "3.8.3"
    },
    "colab": {
      "name": "gb_bootcamp_hw_10.ipynb",
      "provenance": []
    }
  },
  "nbformat": 4,
  "nbformat_minor": 5
}