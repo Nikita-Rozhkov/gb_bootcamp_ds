{
  "nbformat": 4,
  "nbformat_minor": 0,
  "metadata": {
    "colab": {
      "provenance": [],
      "collapsed_sections": []
    },
    "kernelspec": {
      "name": "python3",
      "display_name": "Python 3"
    },
    "language_info": {
      "name": "python"
    }
  },
  "cells": [
    {
      "cell_type": "markdown",
      "source": [
        "## Домашнее задание"
      ],
      "metadata": {
        "id": "rUBM6AfOPCwl"
      }
    },
    {
      "cell_type": "markdown",
      "source": [
        "- Реализуйте бинарный поиск\n",
        "- Реализуйте несколько алгоритмов \n",
        "сортировки и сравните их время работы на \n",
        "одних и тех же входных данных"
      ],
      "metadata": {
        "id": "HyNZDKbaQEFE"
      }
    },
    {
      "cell_type": "code",
      "execution_count": 107,
      "metadata": {
        "id": "qDcH7ptzOuZy"
      },
      "outputs": [],
      "source": [
        "import random"
      ]
    },
    {
      "cell_type": "code",
      "source": [
        "array = [i for i in range(10)]"
      ],
      "metadata": {
        "id": "xCYuNCc6Qp0a"
      },
      "execution_count": 108,
      "outputs": []
    },
    {
      "cell_type": "code",
      "source": [
        "array"
      ],
      "metadata": {
        "colab": {
          "base_uri": "https://localhost:8080/"
        },
        "id": "yKqhHUU7WiL7",
        "outputId": "2bdb8438-90ae-44bc-c366-84958efce8b6"
      },
      "execution_count": 109,
      "outputs": [
        {
          "output_type": "execute_result",
          "data": {
            "text/plain": [
              "[0, 1, 2, 3, 4, 5, 6, 7, 8, 9]"
            ]
          },
          "metadata": {},
          "execution_count": 109
        }
      ]
    },
    {
      "cell_type": "markdown",
      "source": [
        "### Бинарный поиск"
      ],
      "metadata": {
        "id": "DZWhbtQSPIS8"
      }
    },
    {
      "cell_type": "code",
      "source": [
        "def bin_search(array, value):\n",
        "\n",
        "    left = 0\n",
        "    right = len(array) - 1\n",
        "    pos = len(array) // 2\n",
        "\n",
        "    while array[pos] != value and left <= right:\n",
        "\n",
        "        if value > array[pos]:\n",
        "            left = pos + 1\n",
        "        else:\n",
        "            right = pos - 1\n",
        "\n",
        "        pos = (left + right) // 2\n",
        "\n",
        "    return -1 if left > right else pos"
      ],
      "metadata": {
        "id": "62k5XzMBQkYm"
      },
      "execution_count": 110,
      "outputs": []
    },
    {
      "cell_type": "code",
      "source": [
        "%%time\n",
        "bin_search(array, 5)"
      ],
      "metadata": {
        "colab": {
          "base_uri": "https://localhost:8080/"
        },
        "id": "A-LLWtm0RPGW",
        "outputId": "ca7de864-4583-47d7-bda4-7e8cd4b817a9"
      },
      "execution_count": 111,
      "outputs": [
        {
          "output_type": "stream",
          "name": "stdout",
          "text": [
            "CPU times: user 6 µs, sys: 0 ns, total: 6 µs\n",
            "Wall time: 9.54 µs\n"
          ]
        },
        {
          "output_type": "execute_result",
          "data": {
            "text/plain": [
              "5"
            ]
          },
          "metadata": {},
          "execution_count": 111
        }
      ]
    },
    {
      "cell_type": "code",
      "source": [
        "random.shuffle(array)"
      ],
      "metadata": {
        "id": "-vC6qjzQUKyo"
      },
      "execution_count": 112,
      "outputs": []
    },
    {
      "cell_type": "code",
      "source": [
        "array"
      ],
      "metadata": {
        "colab": {
          "base_uri": "https://localhost:8080/"
        },
        "id": "t52MUDngWd07",
        "outputId": "aa8af8cc-89a2-4897-c472-6ed3df20321e"
      },
      "execution_count": 113,
      "outputs": [
        {
          "output_type": "execute_result",
          "data": {
            "text/plain": [
              "[6, 2, 7, 1, 5, 9, 0, 8, 3, 4]"
            ]
          },
          "metadata": {},
          "execution_count": 113
        }
      ]
    },
    {
      "cell_type": "markdown",
      "source": [
        "### Сортировка пузырьком"
      ],
      "metadata": {
        "id": "tUQgtFEZR-gT"
      }
    },
    {
      "cell_type": "code",
      "source": [
        "def bubble_sort(array):\n",
        "    n = 1\n",
        "    while n < len(array):\n",
        "       for i in range(len(array) - n):\n",
        "         if array[i] > array[i+1]:\n",
        "            array[i], array[i+1] = array[i+1], array[i]\n",
        "       n += 1\n",
        "    return array"
      ],
      "metadata": {
        "id": "G402qCY4VMNv"
      },
      "execution_count": 114,
      "outputs": []
    },
    {
      "cell_type": "code",
      "source": [
        "%%time\n",
        "bubble_sort(array)"
      ],
      "metadata": {
        "colab": {
          "base_uri": "https://localhost:8080/"
        },
        "id": "Wg2Nb5xOWByH",
        "outputId": "6a413a66-a9af-4998-c484-40cc4e544d43"
      },
      "execution_count": 115,
      "outputs": [
        {
          "output_type": "stream",
          "name": "stdout",
          "text": [
            "CPU times: user 0 ns, sys: 32 µs, total: 32 µs\n",
            "Wall time: 37.2 µs\n"
          ]
        },
        {
          "output_type": "execute_result",
          "data": {
            "text/plain": [
              "[0, 1, 2, 3, 4, 5, 6, 7, 8, 9]"
            ]
          },
          "metadata": {},
          "execution_count": 115
        }
      ]
    },
    {
      "cell_type": "markdown",
      "source": [
        "### Сортировка выбором"
      ],
      "metadata": {
        "id": "1yQIVbPFXBU_"
      }
    },
    {
      "cell_type": "code",
      "source": [
        "def selection_sort(array):\n",
        "\n",
        "    for i in range(len(array)):\n",
        "        idx_min = i\n",
        "        for j in range(i + 1, len(array)):\n",
        "            if array[j] < array[idx_min]:\n",
        "                idx_min = j\n",
        "        array[idx_min], array[i] = array[i], array[idx_min]\n"
      ],
      "metadata": {
        "id": "f2cLvONUXPpQ"
      },
      "execution_count": 116,
      "outputs": []
    },
    {
      "cell_type": "code",
      "source": [
        "random.shuffle(array)\n",
        "print(array)"
      ],
      "metadata": {
        "colab": {
          "base_uri": "https://localhost:8080/"
        },
        "id": "OoSht7QBXiHK",
        "outputId": "b21f07a5-4a36-416d-f684-9f2fc22f8f0f"
      },
      "execution_count": 117,
      "outputs": [
        {
          "output_type": "stream",
          "name": "stdout",
          "text": [
            "[7, 5, 6, 1, 3, 4, 2, 0, 8, 9]\n"
          ]
        }
      ]
    },
    {
      "cell_type": "code",
      "source": [
        "%%time\n",
        "selection_sort(array)\n",
        "print(array)"
      ],
      "metadata": {
        "colab": {
          "base_uri": "https://localhost:8080/"
        },
        "id": "haJSgDr6XUgi",
        "outputId": "75c3fe2d-dcbf-4174-a88b-f8e2298e64fb"
      },
      "execution_count": 118,
      "outputs": [
        {
          "output_type": "stream",
          "name": "stdout",
          "text": [
            "[0, 1, 2, 3, 4, 5, 6, 7, 8, 9]\n",
            "CPU times: user 168 µs, sys: 4 µs, total: 172 µs\n",
            "Wall time: 141 µs\n"
          ]
        }
      ]
    },
    {
      "cell_type": "markdown",
      "source": [
        "### Сортировка слиянием"
      ],
      "metadata": {
        "id": "xdv8qhNEX355"
      }
    },
    {
      "cell_type": "code",
      "source": [
        "def merge_sort(array):\n",
        "    if len(array) == 1 or len(array) == 0:\n",
        "        return array\n",
        "    left_ar = array[:len(array) // 2]\n",
        "    right_ar = array[len(array) // 2:]\n",
        "    merge_sort(left_ar)\n",
        "    merge_sort(right_ar)\n",
        "    n = m = k = 0\n",
        "    temp_ar = [0] * (len(left_ar) + len(right_ar))\n",
        "    while n < len(left_ar) and m < len(right_ar):\n",
        "        if left_ar[n] <= right_ar[m]:\n",
        "            temp_ar[k] = left_ar[n]\n",
        "            n += 1\n",
        "        else:\n",
        "            temp_ar[k] = right_ar[m]\n",
        "            m += 1\n",
        "        k += 1\n",
        "    while n < len(left_ar):\n",
        "        temp_ar[k] = left_ar[n]\n",
        "        n += 1\n",
        "        k += 1\n",
        "    while m < len(right_ar):\n",
        "        temp_ar[k] = right_ar[m]\n",
        "        m += 1\n",
        "        k += 1\n",
        "    for i in range(len(array)):\n",
        "        array[i] = temp_ar[i]\n",
        "    return array\n"
      ],
      "metadata": {
        "id": "_Hqb-vqmX-hH"
      },
      "execution_count": 119,
      "outputs": []
    },
    {
      "cell_type": "code",
      "source": [
        "random.shuffle(array)\n",
        "print(array)"
      ],
      "metadata": {
        "colab": {
          "base_uri": "https://localhost:8080/"
        },
        "id": "LEH4RwfmYDln",
        "outputId": "69eb9edc-ba07-4165-866b-9bbb7e304a7d"
      },
      "execution_count": 120,
      "outputs": [
        {
          "output_type": "stream",
          "name": "stdout",
          "text": [
            "[3, 6, 8, 5, 0, 7, 2, 9, 4, 1]\n"
          ]
        }
      ]
    },
    {
      "cell_type": "code",
      "source": [
        "%%time\n",
        "merge_sort(array)\n",
        "print(array)"
      ],
      "metadata": {
        "colab": {
          "base_uri": "https://localhost:8080/"
        },
        "id": "Gb7AZt0vYLki",
        "outputId": "11c7b544-e085-4bff-e01f-de0591cbbdb4"
      },
      "execution_count": 121,
      "outputs": [
        {
          "output_type": "stream",
          "name": "stdout",
          "text": [
            "[0, 1, 2, 3, 4, 5, 6, 7, 8, 9]\n",
            "CPU times: user 215 µs, sys: 0 ns, total: 215 µs\n",
            "Wall time: 227 µs\n"
          ]
        }
      ]
    },
    {
      "cell_type": "markdown",
      "source": [
        "### Сортировка Шелла"
      ],
      "metadata": {
        "id": "9Y6Pj6CcYmfB"
      }
    },
    {
      "cell_type": "code",
      "source": [
        "def shell_sort(array):\n",
        "\n",
        "    assert len(array) < 4000, 'Массив слишком большой. Используйте другую сортировку'\n",
        "\n",
        "    def new_increment(array):\n",
        "\n",
        "        inc = [1, 4, 10, 23, 57, 132, 301, 701, 1750]\n",
        "\n",
        "        while len(array) <= inc[-1]:\n",
        "            inc.pop()\n",
        "\n",
        "        while len(inc) > 0:\n",
        "            yield inc.pop()\n",
        "    count = 0\n",
        "\n",
        "    for increment in new_increment(array):\n",
        "        for i in range(increment, len(array)):\n",
        "            for j in range(i, increment - 1, - increment):\n",
        "                if array[j - increment] <= array[j]:\n",
        "                    break\n",
        "                array[j], array[j - increment] = array[j - increment], array[j]\n",
        "                count += 1\n",
        "                "
      ],
      "metadata": {
        "id": "z_kXnKnDYq2y"
      },
      "execution_count": 122,
      "outputs": []
    },
    {
      "cell_type": "code",
      "source": [
        "random.shuffle(array)\n",
        "print(array)"
      ],
      "metadata": {
        "colab": {
          "base_uri": "https://localhost:8080/"
        },
        "id": "cJFopeaFYw7F",
        "outputId": "e887f832-44dc-41e9-9997-6bc91bc6557a"
      },
      "execution_count": 123,
      "outputs": [
        {
          "output_type": "stream",
          "name": "stdout",
          "text": [
            "[9, 1, 2, 3, 4, 7, 5, 8, 0, 6]\n"
          ]
        }
      ]
    },
    {
      "cell_type": "code",
      "source": [
        "%%time\n",
        "shell_sort(array)\n",
        "print(array)"
      ],
      "metadata": {
        "colab": {
          "base_uri": "https://localhost:8080/"
        },
        "id": "4r65OCwmY3Wn",
        "outputId": "a44c24f1-b2ee-4e8e-d9a2-90a554446849"
      },
      "execution_count": 124,
      "outputs": [
        {
          "output_type": "stream",
          "name": "stdout",
          "text": [
            "[0, 1, 2, 3, 4, 5, 6, 7, 8, 9]\n",
            "CPU times: user 122 µs, sys: 3 µs, total: 125 µs\n",
            "Wall time: 129 µs\n"
          ]
        }
      ]
    }
  ]
}