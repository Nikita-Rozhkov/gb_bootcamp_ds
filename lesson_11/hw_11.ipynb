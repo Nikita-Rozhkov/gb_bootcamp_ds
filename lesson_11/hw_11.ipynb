{
  "cells": [
    {
      "cell_type": "code",
      "source": [
        "import numpy as np\n",
        "import pandas as pd"
      ],
      "metadata": {
        "id": "Fp4abvVvlN96"
      },
      "id": "Fp4abvVvlN96",
      "execution_count": 85,
      "outputs": []
    },
    {
      "cell_type": "code",
      "source": [
        "from google.colab import drive\n",
        "drive.mount('/content/drive')"
      ],
      "metadata": {
        "colab": {
          "base_uri": "https://localhost:8080/"
        },
        "id": "Sqm4ebCPshwl",
        "outputId": "f840912d-2240-4103-f291-e86b380f1110"
      },
      "id": "Sqm4ebCPshwl",
      "execution_count": 86,
      "outputs": [
        {
          "output_type": "stream",
          "name": "stdout",
          "text": [
            "Drive already mounted at /content/drive; to attempt to forcibly remount, call drive.mount(\"/content/drive\", force_remount=True).\n"
          ]
        }
      ]
    },
    {
      "cell_type": "markdown",
      "id": "designed-lucas",
      "metadata": {
        "id": "designed-lucas"
      },
      "source": [
        "### Pandas\n",
        "\n",
        "* Скачайте любой табличный датасет (можете использовать тот же, что и в дз к занятию \"Знакомство с библиотеками\"), например, с https://www.kaggle.com/datasets\n",
        "* Проведите поноценный EDA \n",
        "    * \"погрузитесь\" в данные\n",
        "    * составьте описание измерений из датасета\n",
        "    * очистите данные, если это необходимо\n",
        "    * попробуйте создать дополнительные переменные, которые могут помочь лучше понять данные"
      ]
    },
    {
      "cell_type": "markdown",
      "source": [
        "#### Загрузка и обзор данных"
      ],
      "metadata": {
        "id": "8h4a-DzI3pLr"
      },
      "id": "8h4a-DzI3pLr"
    },
    {
      "cell_type": "markdown",
      "source": [
        "https://www.kaggle.com/datasets/slavapasedko/belarus-used-cars-prices"
      ],
      "metadata": {
        "id": "tLo_qTJDg4oM"
      },
      "id": "tLo_qTJDg4oM"
    },
    {
      "cell_type": "code",
      "source": [
        "# загрузка датасета\n",
        "df = pd.read_csv('/content/drive/MyDrive/cars.csv')\n",
        "df.head()"
      ],
      "metadata": {
        "colab": {
          "base_uri": "https://localhost:8080/",
          "height": 206
        },
        "id": "6ddXFGGRs3kb",
        "outputId": "2a9731a3-574f-4ed9-a743-4e2989363b92"
      },
      "id": "6ddXFGGRs3kb",
      "execution_count": 87,
      "outputs": [
        {
          "output_type": "execute_result",
          "data": {
            "text/plain": [
              "    make model  priceUSD  year     condition  mileage(kilometers) fuel_type  \\\n",
              "0  mazda     2      5500  2008  with mileage             162000.0    petrol   \n",
              "1  mazda     2      5350  2009  with mileage             120000.0    petrol   \n",
              "2  mazda     2      7000  2009  with mileage              61000.0    petrol   \n",
              "3  mazda     2      3300  2003  with mileage             265000.0    diesel   \n",
              "4  mazda     2      5200  2008  with mileage              97183.0    diesel   \n",
              "\n",
              "   volume(cm3)     color transmission         drive_unit segment  \n",
              "0       1500.0  burgundy    mechanics  front-wheel drive       B  \n",
              "1       1300.0     black    mechanics  front-wheel drive       B  \n",
              "2       1500.0    silver         auto  front-wheel drive       B  \n",
              "3       1400.0     white    mechanics  front-wheel drive       B  \n",
              "4       1400.0      gray    mechanics  front-wheel drive       B  "
            ],
            "text/html": [
              "\n",
              "  <div id=\"df-68653fa7-ac8b-41f2-93c9-4125c5d14a6c\">\n",
              "    <div class=\"colab-df-container\">\n",
              "      <div>\n",
              "<style scoped>\n",
              "    .dataframe tbody tr th:only-of-type {\n",
              "        vertical-align: middle;\n",
              "    }\n",
              "\n",
              "    .dataframe tbody tr th {\n",
              "        vertical-align: top;\n",
              "    }\n",
              "\n",
              "    .dataframe thead th {\n",
              "        text-align: right;\n",
              "    }\n",
              "</style>\n",
              "<table border=\"1\" class=\"dataframe\">\n",
              "  <thead>\n",
              "    <tr style=\"text-align: right;\">\n",
              "      <th></th>\n",
              "      <th>make</th>\n",
              "      <th>model</th>\n",
              "      <th>priceUSD</th>\n",
              "      <th>year</th>\n",
              "      <th>condition</th>\n",
              "      <th>mileage(kilometers)</th>\n",
              "      <th>fuel_type</th>\n",
              "      <th>volume(cm3)</th>\n",
              "      <th>color</th>\n",
              "      <th>transmission</th>\n",
              "      <th>drive_unit</th>\n",
              "      <th>segment</th>\n",
              "    </tr>\n",
              "  </thead>\n",
              "  <tbody>\n",
              "    <tr>\n",
              "      <th>0</th>\n",
              "      <td>mazda</td>\n",
              "      <td>2</td>\n",
              "      <td>5500</td>\n",
              "      <td>2008</td>\n",
              "      <td>with mileage</td>\n",
              "      <td>162000.0</td>\n",
              "      <td>petrol</td>\n",
              "      <td>1500.0</td>\n",
              "      <td>burgundy</td>\n",
              "      <td>mechanics</td>\n",
              "      <td>front-wheel drive</td>\n",
              "      <td>B</td>\n",
              "    </tr>\n",
              "    <tr>\n",
              "      <th>1</th>\n",
              "      <td>mazda</td>\n",
              "      <td>2</td>\n",
              "      <td>5350</td>\n",
              "      <td>2009</td>\n",
              "      <td>with mileage</td>\n",
              "      <td>120000.0</td>\n",
              "      <td>petrol</td>\n",
              "      <td>1300.0</td>\n",
              "      <td>black</td>\n",
              "      <td>mechanics</td>\n",
              "      <td>front-wheel drive</td>\n",
              "      <td>B</td>\n",
              "    </tr>\n",
              "    <tr>\n",
              "      <th>2</th>\n",
              "      <td>mazda</td>\n",
              "      <td>2</td>\n",
              "      <td>7000</td>\n",
              "      <td>2009</td>\n",
              "      <td>with mileage</td>\n",
              "      <td>61000.0</td>\n",
              "      <td>petrol</td>\n",
              "      <td>1500.0</td>\n",
              "      <td>silver</td>\n",
              "      <td>auto</td>\n",
              "      <td>front-wheel drive</td>\n",
              "      <td>B</td>\n",
              "    </tr>\n",
              "    <tr>\n",
              "      <th>3</th>\n",
              "      <td>mazda</td>\n",
              "      <td>2</td>\n",
              "      <td>3300</td>\n",
              "      <td>2003</td>\n",
              "      <td>with mileage</td>\n",
              "      <td>265000.0</td>\n",
              "      <td>diesel</td>\n",
              "      <td>1400.0</td>\n",
              "      <td>white</td>\n",
              "      <td>mechanics</td>\n",
              "      <td>front-wheel drive</td>\n",
              "      <td>B</td>\n",
              "    </tr>\n",
              "    <tr>\n",
              "      <th>4</th>\n",
              "      <td>mazda</td>\n",
              "      <td>2</td>\n",
              "      <td>5200</td>\n",
              "      <td>2008</td>\n",
              "      <td>with mileage</td>\n",
              "      <td>97183.0</td>\n",
              "      <td>diesel</td>\n",
              "      <td>1400.0</td>\n",
              "      <td>gray</td>\n",
              "      <td>mechanics</td>\n",
              "      <td>front-wheel drive</td>\n",
              "      <td>B</td>\n",
              "    </tr>\n",
              "  </tbody>\n",
              "</table>\n",
              "</div>\n",
              "      <button class=\"colab-df-convert\" onclick=\"convertToInteractive('df-68653fa7-ac8b-41f2-93c9-4125c5d14a6c')\"\n",
              "              title=\"Convert this dataframe to an interactive table.\"\n",
              "              style=\"display:none;\">\n",
              "        \n",
              "  <svg xmlns=\"http://www.w3.org/2000/svg\" height=\"24px\"viewBox=\"0 0 24 24\"\n",
              "       width=\"24px\">\n",
              "    <path d=\"M0 0h24v24H0V0z\" fill=\"none\"/>\n",
              "    <path d=\"M18.56 5.44l.94 2.06.94-2.06 2.06-.94-2.06-.94-.94-2.06-.94 2.06-2.06.94zm-11 1L8.5 8.5l.94-2.06 2.06-.94-2.06-.94L8.5 2.5l-.94 2.06-2.06.94zm10 10l.94 2.06.94-2.06 2.06-.94-2.06-.94-.94-2.06-.94 2.06-2.06.94z\"/><path d=\"M17.41 7.96l-1.37-1.37c-.4-.4-.92-.59-1.43-.59-.52 0-1.04.2-1.43.59L10.3 9.45l-7.72 7.72c-.78.78-.78 2.05 0 2.83L4 21.41c.39.39.9.59 1.41.59.51 0 1.02-.2 1.41-.59l7.78-7.78 2.81-2.81c.8-.78.8-2.07 0-2.86zM5.41 20L4 18.59l7.72-7.72 1.47 1.35L5.41 20z\"/>\n",
              "  </svg>\n",
              "      </button>\n",
              "      \n",
              "  <style>\n",
              "    .colab-df-container {\n",
              "      display:flex;\n",
              "      flex-wrap:wrap;\n",
              "      gap: 12px;\n",
              "    }\n",
              "\n",
              "    .colab-df-convert {\n",
              "      background-color: #E8F0FE;\n",
              "      border: none;\n",
              "      border-radius: 50%;\n",
              "      cursor: pointer;\n",
              "      display: none;\n",
              "      fill: #1967D2;\n",
              "      height: 32px;\n",
              "      padding: 0 0 0 0;\n",
              "      width: 32px;\n",
              "    }\n",
              "\n",
              "    .colab-df-convert:hover {\n",
              "      background-color: #E2EBFA;\n",
              "      box-shadow: 0px 1px 2px rgba(60, 64, 67, 0.3), 0px 1px 3px 1px rgba(60, 64, 67, 0.15);\n",
              "      fill: #174EA6;\n",
              "    }\n",
              "\n",
              "    [theme=dark] .colab-df-convert {\n",
              "      background-color: #3B4455;\n",
              "      fill: #D2E3FC;\n",
              "    }\n",
              "\n",
              "    [theme=dark] .colab-df-convert:hover {\n",
              "      background-color: #434B5C;\n",
              "      box-shadow: 0px 1px 3px 1px rgba(0, 0, 0, 0.15);\n",
              "      filter: drop-shadow(0px 1px 2px rgba(0, 0, 0, 0.3));\n",
              "      fill: #FFFFFF;\n",
              "    }\n",
              "  </style>\n",
              "\n",
              "      <script>\n",
              "        const buttonEl =\n",
              "          document.querySelector('#df-68653fa7-ac8b-41f2-93c9-4125c5d14a6c button.colab-df-convert');\n",
              "        buttonEl.style.display =\n",
              "          google.colab.kernel.accessAllowed ? 'block' : 'none';\n",
              "\n",
              "        async function convertToInteractive(key) {\n",
              "          const element = document.querySelector('#df-68653fa7-ac8b-41f2-93c9-4125c5d14a6c');\n",
              "          const dataTable =\n",
              "            await google.colab.kernel.invokeFunction('convertToInteractive',\n",
              "                                                     [key], {});\n",
              "          if (!dataTable) return;\n",
              "\n",
              "          const docLinkHtml = 'Like what you see? Visit the ' +\n",
              "            '<a target=\"_blank\" href=https://colab.research.google.com/notebooks/data_table.ipynb>data table notebook</a>'\n",
              "            + ' to learn more about interactive tables.';\n",
              "          element.innerHTML = '';\n",
              "          dataTable['output_type'] = 'display_data';\n",
              "          await google.colab.output.renderOutput(dataTable, element);\n",
              "          const docLink = document.createElement('div');\n",
              "          docLink.innerHTML = docLinkHtml;\n",
              "          element.appendChild(docLink);\n",
              "        }\n",
              "      </script>\n",
              "    </div>\n",
              "  </div>\n",
              "  "
            ]
          },
          "metadata": {},
          "execution_count": 87
        }
      ]
    },
    {
      "cell_type": "code",
      "source": [
        "df.rename(columns={'make': 'manufacture', 'priceUSD': 'price(USD)'}, inplace=True)"
      ],
      "metadata": {
        "id": "bYR-BsAi5InV"
      },
      "id": "bYR-BsAi5InV",
      "execution_count": 88,
      "outputs": []
    },
    {
      "cell_type": "code",
      "source": [
        "# описание датасета\n",
        "df.info()"
      ],
      "metadata": {
        "colab": {
          "base_uri": "https://localhost:8080/"
        },
        "id": "xEZO7wMxtSxt",
        "outputId": "25170d46-e9e8-40ca-a0fd-6d126f74b7f3"
      },
      "id": "xEZO7wMxtSxt",
      "execution_count": 89,
      "outputs": [
        {
          "output_type": "stream",
          "name": "stdout",
          "text": [
            "<class 'pandas.core.frame.DataFrame'>\n",
            "RangeIndex: 56244 entries, 0 to 56243\n",
            "Data columns (total 12 columns):\n",
            " #   Column               Non-Null Count  Dtype  \n",
            "---  ------               --------------  -----  \n",
            " 0   manufacture          56244 non-null  object \n",
            " 1   model                56244 non-null  object \n",
            " 2   price(USD)           56244 non-null  int64  \n",
            " 3   year                 56244 non-null  int64  \n",
            " 4   condition            56244 non-null  object \n",
            " 5   mileage(kilometers)  56244 non-null  float64\n",
            " 6   fuel_type            56244 non-null  object \n",
            " 7   volume(cm3)          56197 non-null  float64\n",
            " 8   color                56244 non-null  object \n",
            " 9   transmission         56244 non-null  object \n",
            " 10  drive_unit           54339 non-null  object \n",
            " 11  segment              50953 non-null  object \n",
            "dtypes: float64(2), int64(2), object(8)\n",
            "memory usage: 5.1+ MB\n"
          ]
        }
      ]
    },
    {
      "cell_type": "markdown",
      "source": [
        "#### Заполнение пропусков"
      ],
      "metadata": {
        "id": "9ikjtu5e3kaJ"
      },
      "id": "9ikjtu5e3kaJ"
    },
    {
      "cell_type": "code",
      "source": [
        "# проверка на наличие пропусков\n",
        "df.isnull().sum()"
      ],
      "metadata": {
        "colab": {
          "base_uri": "https://localhost:8080/"
        },
        "id": "pkHKZluvuLzi",
        "outputId": "2b187804-1314-4787-db82-e0928490cf0b"
      },
      "id": "pkHKZluvuLzi",
      "execution_count": 90,
      "outputs": [
        {
          "output_type": "execute_result",
          "data": {
            "text/plain": [
              "manufacture               0\n",
              "model                     0\n",
              "price(USD)                0\n",
              "year                      0\n",
              "condition                 0\n",
              "mileage(kilometers)       0\n",
              "fuel_type                 0\n",
              "volume(cm3)              47\n",
              "color                     0\n",
              "transmission              0\n",
              "drive_unit             1905\n",
              "segment                5291\n",
              "dtype: int64"
            ]
          },
          "metadata": {},
          "execution_count": 90
        }
      ]
    },
    {
      "cell_type": "markdown",
      "source": [
        "volume(cm3)"
      ],
      "metadata": {
        "id": "ByNC9H1r1bk7"
      },
      "id": "ByNC9H1r1bk7"
    },
    {
      "cell_type": "code",
      "source": [
        "df['volume(cm3)'].value_counts()"
      ],
      "metadata": {
        "colab": {
          "base_uri": "https://localhost:8080/"
        },
        "id": "Yjr3p0dq1nzE",
        "outputId": "c397afd6-9f66-4c8a-98b4-22f33bc88860"
      },
      "id": "Yjr3p0dq1nzE",
      "execution_count": 91,
      "outputs": [
        {
          "output_type": "execute_result",
          "data": {
            "text/plain": [
              "2000.0    10742\n",
              "1600.0     8646\n",
              "1800.0     5983\n",
              "1900.0     3651\n",
              "2500.0     3395\n",
              "          ...  \n",
              "1992.0        1\n",
              "1797.0        1\n",
              "2308.0        1\n",
              "1464.0        1\n",
              "1970.0        1\n",
              "Name: volume(cm3), Length: 458, dtype: int64"
            ]
          },
          "metadata": {},
          "execution_count": 91
        }
      ]
    },
    {
      "cell_type": "code",
      "source": [
        "# заполним пропуски в volume(cm3) средним значением\n",
        "df['volume(cm3)'].fillna(df['volume(cm3)'].mean(), inplace = True)"
      ],
      "metadata": {
        "id": "O_D-lSXSunp6"
      },
      "id": "O_D-lSXSunp6",
      "execution_count": 92,
      "outputs": []
    },
    {
      "cell_type": "markdown",
      "source": [
        "drive_unit"
      ],
      "metadata": {
        "id": "dv8AjXS82nb3"
      },
      "id": "dv8AjXS82nb3"
    },
    {
      "cell_type": "code",
      "source": [
        "df['drive_unit'].value_counts()"
      ],
      "metadata": {
        "colab": {
          "base_uri": "https://localhost:8080/"
        },
        "id": "n35G2o5y2m13",
        "outputId": "49f311ae-20f1-449f-c571-dd65103ff701"
      },
      "id": "n35G2o5y2m13",
      "execution_count": 93,
      "outputs": [
        {
          "output_type": "execute_result",
          "data": {
            "text/plain": [
              "front-wheel drive             38016\n",
              "rear drive                     6836\n",
              "all-wheel drive                5890\n",
              "part-time four-wheel drive     3597\n",
              "Name: drive_unit, dtype: int64"
            ]
          },
          "metadata": {},
          "execution_count": 93
        }
      ]
    },
    {
      "cell_type": "code",
      "source": [
        "# заполним пропуски в drive_unit самым частым значением\n",
        "df['drive_unit'].fillna('front-wheel drive', inplace=True)"
      ],
      "metadata": {
        "id": "ii244C_w2-b8"
      },
      "id": "ii244C_w2-b8",
      "execution_count": 94,
      "outputs": []
    },
    {
      "cell_type": "markdown",
      "source": [
        "segment"
      ],
      "metadata": {
        "id": "zm8koavc3gvI"
      },
      "id": "zm8koavc3gvI"
    },
    {
      "cell_type": "code",
      "source": [
        "df['segment'].value_counts()"
      ],
      "metadata": {
        "colab": {
          "base_uri": "https://localhost:8080/"
        },
        "id": "g_oyqO0f3xtr",
        "outputId": "e0eb9e52-0ad5-4e8c-cf04-91c570569edd"
      },
      "id": "g_oyqO0f3xtr",
      "execution_count": 95,
      "outputs": [
        {
          "output_type": "execute_result",
          "data": {
            "text/plain": [
              "D    12605\n",
              "C    10617\n",
              "J     8629\n",
              "M     6313\n",
              "E     6274\n",
              "B     4393\n",
              "F      896\n",
              "S      765\n",
              "A      461\n",
              "Name: segment, dtype: int64"
            ]
          },
          "metadata": {},
          "execution_count": 95
        }
      ]
    },
    {
      "cell_type": "code",
      "source": [
        "# заполним пропуски в segment самым частым значением\n",
        "df['segment'].fillna('D', inplace=True)"
      ],
      "metadata": {
        "id": "S2Smgvfn4CfC"
      },
      "id": "S2Smgvfn4CfC",
      "execution_count": 96,
      "outputs": []
    },
    {
      "cell_type": "code",
      "source": [
        "df.isnull().sum()"
      ],
      "metadata": {
        "colab": {
          "base_uri": "https://localhost:8080/"
        },
        "id": "rQIoRJCZ4np5",
        "outputId": "9342533c-8900-4018-845b-d8f42d2495c5"
      },
      "id": "rQIoRJCZ4np5",
      "execution_count": 97,
      "outputs": [
        {
          "output_type": "execute_result",
          "data": {
            "text/plain": [
              "manufacture            0\n",
              "model                  0\n",
              "price(USD)             0\n",
              "year                   0\n",
              "condition              0\n",
              "mileage(kilometers)    0\n",
              "fuel_type              0\n",
              "volume(cm3)            0\n",
              "color                  0\n",
              "transmission           0\n",
              "drive_unit             0\n",
              "segment                0\n",
              "dtype: int64"
            ]
          },
          "metadata": {},
          "execution_count": 97
        }
      ]
    },
    {
      "cell_type": "markdown",
      "source": [
        "#### Числовые признаки"
      ],
      "metadata": {
        "id": "xnURzqOd6KhK"
      },
      "id": "xnURzqOd6KhK"
    },
    {
      "cell_type": "code",
      "source": [
        "# вывод статистик по числовым признакам\n",
        "df.describe()"
      ],
      "metadata": {
        "colab": {
          "base_uri": "https://localhost:8080/",
          "height": 300
        },
        "id": "vWLkeSqE6VBH",
        "outputId": "113e469d-a2da-4f58-b513-1a750a3856fa"
      },
      "id": "vWLkeSqE6VBH",
      "execution_count": 98,
      "outputs": [
        {
          "output_type": "execute_result",
          "data": {
            "text/plain": [
              "          price(USD)          year  mileage(kilometers)   volume(cm3)\n",
              "count   56244.000000  56244.000000         5.624400e+04  56244.000000\n",
              "mean     7415.456440   2003.454840         2.443956e+05   2104.860615\n",
              "std      8316.959261      8.144247         3.210307e+05    958.800766\n",
              "min        48.000000   1910.000000         0.000000e+00    500.000000\n",
              "25%      2350.000000   1998.000000         1.370000e+05   1600.000000\n",
              "50%      5350.000000   2004.000000         2.285000e+05   1997.000000\n",
              "75%      9807.500000   2010.000000         3.100000e+05   2300.000000\n",
              "max    235235.000000   2019.000000         9.999999e+06  20000.000000"
            ],
            "text/html": [
              "\n",
              "  <div id=\"df-1c1410cb-7079-43b4-b50f-db2e20efd633\">\n",
              "    <div class=\"colab-df-container\">\n",
              "      <div>\n",
              "<style scoped>\n",
              "    .dataframe tbody tr th:only-of-type {\n",
              "        vertical-align: middle;\n",
              "    }\n",
              "\n",
              "    .dataframe tbody tr th {\n",
              "        vertical-align: top;\n",
              "    }\n",
              "\n",
              "    .dataframe thead th {\n",
              "        text-align: right;\n",
              "    }\n",
              "</style>\n",
              "<table border=\"1\" class=\"dataframe\">\n",
              "  <thead>\n",
              "    <tr style=\"text-align: right;\">\n",
              "      <th></th>\n",
              "      <th>price(USD)</th>\n",
              "      <th>year</th>\n",
              "      <th>mileage(kilometers)</th>\n",
              "      <th>volume(cm3)</th>\n",
              "    </tr>\n",
              "  </thead>\n",
              "  <tbody>\n",
              "    <tr>\n",
              "      <th>count</th>\n",
              "      <td>56244.000000</td>\n",
              "      <td>56244.000000</td>\n",
              "      <td>5.624400e+04</td>\n",
              "      <td>56244.000000</td>\n",
              "    </tr>\n",
              "    <tr>\n",
              "      <th>mean</th>\n",
              "      <td>7415.456440</td>\n",
              "      <td>2003.454840</td>\n",
              "      <td>2.443956e+05</td>\n",
              "      <td>2104.860615</td>\n",
              "    </tr>\n",
              "    <tr>\n",
              "      <th>std</th>\n",
              "      <td>8316.959261</td>\n",
              "      <td>8.144247</td>\n",
              "      <td>3.210307e+05</td>\n",
              "      <td>958.800766</td>\n",
              "    </tr>\n",
              "    <tr>\n",
              "      <th>min</th>\n",
              "      <td>48.000000</td>\n",
              "      <td>1910.000000</td>\n",
              "      <td>0.000000e+00</td>\n",
              "      <td>500.000000</td>\n",
              "    </tr>\n",
              "    <tr>\n",
              "      <th>25%</th>\n",
              "      <td>2350.000000</td>\n",
              "      <td>1998.000000</td>\n",
              "      <td>1.370000e+05</td>\n",
              "      <td>1600.000000</td>\n",
              "    </tr>\n",
              "    <tr>\n",
              "      <th>50%</th>\n",
              "      <td>5350.000000</td>\n",
              "      <td>2004.000000</td>\n",
              "      <td>2.285000e+05</td>\n",
              "      <td>1997.000000</td>\n",
              "    </tr>\n",
              "    <tr>\n",
              "      <th>75%</th>\n",
              "      <td>9807.500000</td>\n",
              "      <td>2010.000000</td>\n",
              "      <td>3.100000e+05</td>\n",
              "      <td>2300.000000</td>\n",
              "    </tr>\n",
              "    <tr>\n",
              "      <th>max</th>\n",
              "      <td>235235.000000</td>\n",
              "      <td>2019.000000</td>\n",
              "      <td>9.999999e+06</td>\n",
              "      <td>20000.000000</td>\n",
              "    </tr>\n",
              "  </tbody>\n",
              "</table>\n",
              "</div>\n",
              "      <button class=\"colab-df-convert\" onclick=\"convertToInteractive('df-1c1410cb-7079-43b4-b50f-db2e20efd633')\"\n",
              "              title=\"Convert this dataframe to an interactive table.\"\n",
              "              style=\"display:none;\">\n",
              "        \n",
              "  <svg xmlns=\"http://www.w3.org/2000/svg\" height=\"24px\"viewBox=\"0 0 24 24\"\n",
              "       width=\"24px\">\n",
              "    <path d=\"M0 0h24v24H0V0z\" fill=\"none\"/>\n",
              "    <path d=\"M18.56 5.44l.94 2.06.94-2.06 2.06-.94-2.06-.94-.94-2.06-.94 2.06-2.06.94zm-11 1L8.5 8.5l.94-2.06 2.06-.94-2.06-.94L8.5 2.5l-.94 2.06-2.06.94zm10 10l.94 2.06.94-2.06 2.06-.94-2.06-.94-.94-2.06-.94 2.06-2.06.94z\"/><path d=\"M17.41 7.96l-1.37-1.37c-.4-.4-.92-.59-1.43-.59-.52 0-1.04.2-1.43.59L10.3 9.45l-7.72 7.72c-.78.78-.78 2.05 0 2.83L4 21.41c.39.39.9.59 1.41.59.51 0 1.02-.2 1.41-.59l7.78-7.78 2.81-2.81c.8-.78.8-2.07 0-2.86zM5.41 20L4 18.59l7.72-7.72 1.47 1.35L5.41 20z\"/>\n",
              "  </svg>\n",
              "      </button>\n",
              "      \n",
              "  <style>\n",
              "    .colab-df-container {\n",
              "      display:flex;\n",
              "      flex-wrap:wrap;\n",
              "      gap: 12px;\n",
              "    }\n",
              "\n",
              "    .colab-df-convert {\n",
              "      background-color: #E8F0FE;\n",
              "      border: none;\n",
              "      border-radius: 50%;\n",
              "      cursor: pointer;\n",
              "      display: none;\n",
              "      fill: #1967D2;\n",
              "      height: 32px;\n",
              "      padding: 0 0 0 0;\n",
              "      width: 32px;\n",
              "    }\n",
              "\n",
              "    .colab-df-convert:hover {\n",
              "      background-color: #E2EBFA;\n",
              "      box-shadow: 0px 1px 2px rgba(60, 64, 67, 0.3), 0px 1px 3px 1px rgba(60, 64, 67, 0.15);\n",
              "      fill: #174EA6;\n",
              "    }\n",
              "\n",
              "    [theme=dark] .colab-df-convert {\n",
              "      background-color: #3B4455;\n",
              "      fill: #D2E3FC;\n",
              "    }\n",
              "\n",
              "    [theme=dark] .colab-df-convert:hover {\n",
              "      background-color: #434B5C;\n",
              "      box-shadow: 0px 1px 3px 1px rgba(0, 0, 0, 0.15);\n",
              "      filter: drop-shadow(0px 1px 2px rgba(0, 0, 0, 0.3));\n",
              "      fill: #FFFFFF;\n",
              "    }\n",
              "  </style>\n",
              "\n",
              "      <script>\n",
              "        const buttonEl =\n",
              "          document.querySelector('#df-1c1410cb-7079-43b4-b50f-db2e20efd633 button.colab-df-convert');\n",
              "        buttonEl.style.display =\n",
              "          google.colab.kernel.accessAllowed ? 'block' : 'none';\n",
              "\n",
              "        async function convertToInteractive(key) {\n",
              "          const element = document.querySelector('#df-1c1410cb-7079-43b4-b50f-db2e20efd633');\n",
              "          const dataTable =\n",
              "            await google.colab.kernel.invokeFunction('convertToInteractive',\n",
              "                                                     [key], {});\n",
              "          if (!dataTable) return;\n",
              "\n",
              "          const docLinkHtml = 'Like what you see? Visit the ' +\n",
              "            '<a target=\"_blank\" href=https://colab.research.google.com/notebooks/data_table.ipynb>data table notebook</a>'\n",
              "            + ' to learn more about interactive tables.';\n",
              "          element.innerHTML = '';\n",
              "          dataTable['output_type'] = 'display_data';\n",
              "          await google.colab.output.renderOutput(dataTable, element);\n",
              "          const docLink = document.createElement('div');\n",
              "          docLink.innerHTML = docLinkHtml;\n",
              "          element.appendChild(docLink);\n",
              "        }\n",
              "      </script>\n",
              "    </div>\n",
              "  </div>\n",
              "  "
            ]
          },
          "metadata": {},
          "execution_count": 98
        }
      ]
    },
    {
      "cell_type": "code",
      "source": [
        "# корреляция признаков\n",
        "df.corr()"
      ],
      "metadata": {
        "colab": {
          "base_uri": "https://localhost:8080/",
          "height": 175
        },
        "id": "sifTqLZu6m8w",
        "outputId": "b65c08e8-587b-4f89-ff52-578c1b6709a4"
      },
      "id": "sifTqLZu6m8w",
      "execution_count": 99,
      "outputs": [
        {
          "output_type": "execute_result",
          "data": {
            "text/plain": [
              "                     price(USD)      year  mileage(kilometers)  volume(cm3)\n",
              "price(USD)             1.000000  0.605131            -0.170933     0.264116\n",
              "year                   0.605131  1.000000            -0.233049     0.027349\n",
              "mileage(kilometers)   -0.170933 -0.233049             1.000000     0.013450\n",
              "volume(cm3)            0.264116  0.027349             0.013450     1.000000"
            ],
            "text/html": [
              "\n",
              "  <div id=\"df-6f147867-f508-479b-85d7-13fe94c42e5e\">\n",
              "    <div class=\"colab-df-container\">\n",
              "      <div>\n",
              "<style scoped>\n",
              "    .dataframe tbody tr th:only-of-type {\n",
              "        vertical-align: middle;\n",
              "    }\n",
              "\n",
              "    .dataframe tbody tr th {\n",
              "        vertical-align: top;\n",
              "    }\n",
              "\n",
              "    .dataframe thead th {\n",
              "        text-align: right;\n",
              "    }\n",
              "</style>\n",
              "<table border=\"1\" class=\"dataframe\">\n",
              "  <thead>\n",
              "    <tr style=\"text-align: right;\">\n",
              "      <th></th>\n",
              "      <th>price(USD)</th>\n",
              "      <th>year</th>\n",
              "      <th>mileage(kilometers)</th>\n",
              "      <th>volume(cm3)</th>\n",
              "    </tr>\n",
              "  </thead>\n",
              "  <tbody>\n",
              "    <tr>\n",
              "      <th>price(USD)</th>\n",
              "      <td>1.000000</td>\n",
              "      <td>0.605131</td>\n",
              "      <td>-0.170933</td>\n",
              "      <td>0.264116</td>\n",
              "    </tr>\n",
              "    <tr>\n",
              "      <th>year</th>\n",
              "      <td>0.605131</td>\n",
              "      <td>1.000000</td>\n",
              "      <td>-0.233049</td>\n",
              "      <td>0.027349</td>\n",
              "    </tr>\n",
              "    <tr>\n",
              "      <th>mileage(kilometers)</th>\n",
              "      <td>-0.170933</td>\n",
              "      <td>-0.233049</td>\n",
              "      <td>1.000000</td>\n",
              "      <td>0.013450</td>\n",
              "    </tr>\n",
              "    <tr>\n",
              "      <th>volume(cm3)</th>\n",
              "      <td>0.264116</td>\n",
              "      <td>0.027349</td>\n",
              "      <td>0.013450</td>\n",
              "      <td>1.000000</td>\n",
              "    </tr>\n",
              "  </tbody>\n",
              "</table>\n",
              "</div>\n",
              "      <button class=\"colab-df-convert\" onclick=\"convertToInteractive('df-6f147867-f508-479b-85d7-13fe94c42e5e')\"\n",
              "              title=\"Convert this dataframe to an interactive table.\"\n",
              "              style=\"display:none;\">\n",
              "        \n",
              "  <svg xmlns=\"http://www.w3.org/2000/svg\" height=\"24px\"viewBox=\"0 0 24 24\"\n",
              "       width=\"24px\">\n",
              "    <path d=\"M0 0h24v24H0V0z\" fill=\"none\"/>\n",
              "    <path d=\"M18.56 5.44l.94 2.06.94-2.06 2.06-.94-2.06-.94-.94-2.06-.94 2.06-2.06.94zm-11 1L8.5 8.5l.94-2.06 2.06-.94-2.06-.94L8.5 2.5l-.94 2.06-2.06.94zm10 10l.94 2.06.94-2.06 2.06-.94-2.06-.94-.94-2.06-.94 2.06-2.06.94z\"/><path d=\"M17.41 7.96l-1.37-1.37c-.4-.4-.92-.59-1.43-.59-.52 0-1.04.2-1.43.59L10.3 9.45l-7.72 7.72c-.78.78-.78 2.05 0 2.83L4 21.41c.39.39.9.59 1.41.59.51 0 1.02-.2 1.41-.59l7.78-7.78 2.81-2.81c.8-.78.8-2.07 0-2.86zM5.41 20L4 18.59l7.72-7.72 1.47 1.35L5.41 20z\"/>\n",
              "  </svg>\n",
              "      </button>\n",
              "      \n",
              "  <style>\n",
              "    .colab-df-container {\n",
              "      display:flex;\n",
              "      flex-wrap:wrap;\n",
              "      gap: 12px;\n",
              "    }\n",
              "\n",
              "    .colab-df-convert {\n",
              "      background-color: #E8F0FE;\n",
              "      border: none;\n",
              "      border-radius: 50%;\n",
              "      cursor: pointer;\n",
              "      display: none;\n",
              "      fill: #1967D2;\n",
              "      height: 32px;\n",
              "      padding: 0 0 0 0;\n",
              "      width: 32px;\n",
              "    }\n",
              "\n",
              "    .colab-df-convert:hover {\n",
              "      background-color: #E2EBFA;\n",
              "      box-shadow: 0px 1px 2px rgba(60, 64, 67, 0.3), 0px 1px 3px 1px rgba(60, 64, 67, 0.15);\n",
              "      fill: #174EA6;\n",
              "    }\n",
              "\n",
              "    [theme=dark] .colab-df-convert {\n",
              "      background-color: #3B4455;\n",
              "      fill: #D2E3FC;\n",
              "    }\n",
              "\n",
              "    [theme=dark] .colab-df-convert:hover {\n",
              "      background-color: #434B5C;\n",
              "      box-shadow: 0px 1px 3px 1px rgba(0, 0, 0, 0.15);\n",
              "      filter: drop-shadow(0px 1px 2px rgba(0, 0, 0, 0.3));\n",
              "      fill: #FFFFFF;\n",
              "    }\n",
              "  </style>\n",
              "\n",
              "      <script>\n",
              "        const buttonEl =\n",
              "          document.querySelector('#df-6f147867-f508-479b-85d7-13fe94c42e5e button.colab-df-convert');\n",
              "        buttonEl.style.display =\n",
              "          google.colab.kernel.accessAllowed ? 'block' : 'none';\n",
              "\n",
              "        async function convertToInteractive(key) {\n",
              "          const element = document.querySelector('#df-6f147867-f508-479b-85d7-13fe94c42e5e');\n",
              "          const dataTable =\n",
              "            await google.colab.kernel.invokeFunction('convertToInteractive',\n",
              "                                                     [key], {});\n",
              "          if (!dataTable) return;\n",
              "\n",
              "          const docLinkHtml = 'Like what you see? Visit the ' +\n",
              "            '<a target=\"_blank\" href=https://colab.research.google.com/notebooks/data_table.ipynb>data table notebook</a>'\n",
              "            + ' to learn more about interactive tables.';\n",
              "          element.innerHTML = '';\n",
              "          dataTable['output_type'] = 'display_data';\n",
              "          await google.colab.output.renderOutput(dataTable, element);\n",
              "          const docLink = document.createElement('div');\n",
              "          docLink.innerHTML = docLinkHtml;\n",
              "          element.appendChild(docLink);\n",
              "        }\n",
              "      </script>\n",
              "    </div>\n",
              "  </div>\n",
              "  "
            ]
          },
          "metadata": {},
          "execution_count": 99
        }
      ]
    },
    {
      "cell_type": "markdown",
      "source": [
        "#### Группировка данных"
      ],
      "metadata": {
        "id": "DSkKtcH6eDJm"
      },
      "id": "DSkKtcH6eDJm"
    },
    {
      "cell_type": "code",
      "source": [
        "# добавление столбца id\n",
        "df['id'] = df.index\n",
        "df.head()"
      ],
      "metadata": {
        "colab": {
          "base_uri": "https://localhost:8080/",
          "height": 206
        },
        "id": "1Zzhc9U_P6Y1",
        "outputId": "12177ac1-39f1-4bb7-eec8-2504bb39ad2b"
      },
      "id": "1Zzhc9U_P6Y1",
      "execution_count": 100,
      "outputs": [
        {
          "output_type": "execute_result",
          "data": {
            "text/plain": [
              "  manufacture model  price(USD)  year     condition  mileage(kilometers)  \\\n",
              "0       mazda     2        5500  2008  with mileage             162000.0   \n",
              "1       mazda     2        5350  2009  with mileage             120000.0   \n",
              "2       mazda     2        7000  2009  with mileage              61000.0   \n",
              "3       mazda     2        3300  2003  with mileage             265000.0   \n",
              "4       mazda     2        5200  2008  with mileage              97183.0   \n",
              "\n",
              "  fuel_type  volume(cm3)     color transmission         drive_unit segment  id  \n",
              "0    petrol       1500.0  burgundy    mechanics  front-wheel drive       B   0  \n",
              "1    petrol       1300.0     black    mechanics  front-wheel drive       B   1  \n",
              "2    petrol       1500.0    silver         auto  front-wheel drive       B   2  \n",
              "3    diesel       1400.0     white    mechanics  front-wheel drive       B   3  \n",
              "4    diesel       1400.0      gray    mechanics  front-wheel drive       B   4  "
            ],
            "text/html": [
              "\n",
              "  <div id=\"df-d7535870-aefc-41e9-91f8-b8ce1181e021\">\n",
              "    <div class=\"colab-df-container\">\n",
              "      <div>\n",
              "<style scoped>\n",
              "    .dataframe tbody tr th:only-of-type {\n",
              "        vertical-align: middle;\n",
              "    }\n",
              "\n",
              "    .dataframe tbody tr th {\n",
              "        vertical-align: top;\n",
              "    }\n",
              "\n",
              "    .dataframe thead th {\n",
              "        text-align: right;\n",
              "    }\n",
              "</style>\n",
              "<table border=\"1\" class=\"dataframe\">\n",
              "  <thead>\n",
              "    <tr style=\"text-align: right;\">\n",
              "      <th></th>\n",
              "      <th>manufacture</th>\n",
              "      <th>model</th>\n",
              "      <th>price(USD)</th>\n",
              "      <th>year</th>\n",
              "      <th>condition</th>\n",
              "      <th>mileage(kilometers)</th>\n",
              "      <th>fuel_type</th>\n",
              "      <th>volume(cm3)</th>\n",
              "      <th>color</th>\n",
              "      <th>transmission</th>\n",
              "      <th>drive_unit</th>\n",
              "      <th>segment</th>\n",
              "      <th>id</th>\n",
              "    </tr>\n",
              "  </thead>\n",
              "  <tbody>\n",
              "    <tr>\n",
              "      <th>0</th>\n",
              "      <td>mazda</td>\n",
              "      <td>2</td>\n",
              "      <td>5500</td>\n",
              "      <td>2008</td>\n",
              "      <td>with mileage</td>\n",
              "      <td>162000.0</td>\n",
              "      <td>petrol</td>\n",
              "      <td>1500.0</td>\n",
              "      <td>burgundy</td>\n",
              "      <td>mechanics</td>\n",
              "      <td>front-wheel drive</td>\n",
              "      <td>B</td>\n",
              "      <td>0</td>\n",
              "    </tr>\n",
              "    <tr>\n",
              "      <th>1</th>\n",
              "      <td>mazda</td>\n",
              "      <td>2</td>\n",
              "      <td>5350</td>\n",
              "      <td>2009</td>\n",
              "      <td>with mileage</td>\n",
              "      <td>120000.0</td>\n",
              "      <td>petrol</td>\n",
              "      <td>1300.0</td>\n",
              "      <td>black</td>\n",
              "      <td>mechanics</td>\n",
              "      <td>front-wheel drive</td>\n",
              "      <td>B</td>\n",
              "      <td>1</td>\n",
              "    </tr>\n",
              "    <tr>\n",
              "      <th>2</th>\n",
              "      <td>mazda</td>\n",
              "      <td>2</td>\n",
              "      <td>7000</td>\n",
              "      <td>2009</td>\n",
              "      <td>with mileage</td>\n",
              "      <td>61000.0</td>\n",
              "      <td>petrol</td>\n",
              "      <td>1500.0</td>\n",
              "      <td>silver</td>\n",
              "      <td>auto</td>\n",
              "      <td>front-wheel drive</td>\n",
              "      <td>B</td>\n",
              "      <td>2</td>\n",
              "    </tr>\n",
              "    <tr>\n",
              "      <th>3</th>\n",
              "      <td>mazda</td>\n",
              "      <td>2</td>\n",
              "      <td>3300</td>\n",
              "      <td>2003</td>\n",
              "      <td>with mileage</td>\n",
              "      <td>265000.0</td>\n",
              "      <td>diesel</td>\n",
              "      <td>1400.0</td>\n",
              "      <td>white</td>\n",
              "      <td>mechanics</td>\n",
              "      <td>front-wheel drive</td>\n",
              "      <td>B</td>\n",
              "      <td>3</td>\n",
              "    </tr>\n",
              "    <tr>\n",
              "      <th>4</th>\n",
              "      <td>mazda</td>\n",
              "      <td>2</td>\n",
              "      <td>5200</td>\n",
              "      <td>2008</td>\n",
              "      <td>with mileage</td>\n",
              "      <td>97183.0</td>\n",
              "      <td>diesel</td>\n",
              "      <td>1400.0</td>\n",
              "      <td>gray</td>\n",
              "      <td>mechanics</td>\n",
              "      <td>front-wheel drive</td>\n",
              "      <td>B</td>\n",
              "      <td>4</td>\n",
              "    </tr>\n",
              "  </tbody>\n",
              "</table>\n",
              "</div>\n",
              "      <button class=\"colab-df-convert\" onclick=\"convertToInteractive('df-d7535870-aefc-41e9-91f8-b8ce1181e021')\"\n",
              "              title=\"Convert this dataframe to an interactive table.\"\n",
              "              style=\"display:none;\">\n",
              "        \n",
              "  <svg xmlns=\"http://www.w3.org/2000/svg\" height=\"24px\"viewBox=\"0 0 24 24\"\n",
              "       width=\"24px\">\n",
              "    <path d=\"M0 0h24v24H0V0z\" fill=\"none\"/>\n",
              "    <path d=\"M18.56 5.44l.94 2.06.94-2.06 2.06-.94-2.06-.94-.94-2.06-.94 2.06-2.06.94zm-11 1L8.5 8.5l.94-2.06 2.06-.94-2.06-.94L8.5 2.5l-.94 2.06-2.06.94zm10 10l.94 2.06.94-2.06 2.06-.94-2.06-.94-.94-2.06-.94 2.06-2.06.94z\"/><path d=\"M17.41 7.96l-1.37-1.37c-.4-.4-.92-.59-1.43-.59-.52 0-1.04.2-1.43.59L10.3 9.45l-7.72 7.72c-.78.78-.78 2.05 0 2.83L4 21.41c.39.39.9.59 1.41.59.51 0 1.02-.2 1.41-.59l7.78-7.78 2.81-2.81c.8-.78.8-2.07 0-2.86zM5.41 20L4 18.59l7.72-7.72 1.47 1.35L5.41 20z\"/>\n",
              "  </svg>\n",
              "      </button>\n",
              "      \n",
              "  <style>\n",
              "    .colab-df-container {\n",
              "      display:flex;\n",
              "      flex-wrap:wrap;\n",
              "      gap: 12px;\n",
              "    }\n",
              "\n",
              "    .colab-df-convert {\n",
              "      background-color: #E8F0FE;\n",
              "      border: none;\n",
              "      border-radius: 50%;\n",
              "      cursor: pointer;\n",
              "      display: none;\n",
              "      fill: #1967D2;\n",
              "      height: 32px;\n",
              "      padding: 0 0 0 0;\n",
              "      width: 32px;\n",
              "    }\n",
              "\n",
              "    .colab-df-convert:hover {\n",
              "      background-color: #E2EBFA;\n",
              "      box-shadow: 0px 1px 2px rgba(60, 64, 67, 0.3), 0px 1px 3px 1px rgba(60, 64, 67, 0.15);\n",
              "      fill: #174EA6;\n",
              "    }\n",
              "\n",
              "    [theme=dark] .colab-df-convert {\n",
              "      background-color: #3B4455;\n",
              "      fill: #D2E3FC;\n",
              "    }\n",
              "\n",
              "    [theme=dark] .colab-df-convert:hover {\n",
              "      background-color: #434B5C;\n",
              "      box-shadow: 0px 1px 3px 1px rgba(0, 0, 0, 0.15);\n",
              "      filter: drop-shadow(0px 1px 2px rgba(0, 0, 0, 0.3));\n",
              "      fill: #FFFFFF;\n",
              "    }\n",
              "  </style>\n",
              "\n",
              "      <script>\n",
              "        const buttonEl =\n",
              "          document.querySelector('#df-d7535870-aefc-41e9-91f8-b8ce1181e021 button.colab-df-convert');\n",
              "        buttonEl.style.display =\n",
              "          google.colab.kernel.accessAllowed ? 'block' : 'none';\n",
              "\n",
              "        async function convertToInteractive(key) {\n",
              "          const element = document.querySelector('#df-d7535870-aefc-41e9-91f8-b8ce1181e021');\n",
              "          const dataTable =\n",
              "            await google.colab.kernel.invokeFunction('convertToInteractive',\n",
              "                                                     [key], {});\n",
              "          if (!dataTable) return;\n",
              "\n",
              "          const docLinkHtml = 'Like what you see? Visit the ' +\n",
              "            '<a target=\"_blank\" href=https://colab.research.google.com/notebooks/data_table.ipynb>data table notebook</a>'\n",
              "            + ' to learn more about interactive tables.';\n",
              "          element.innerHTML = '';\n",
              "          dataTable['output_type'] = 'display_data';\n",
              "          await google.colab.output.renderOutput(dataTable, element);\n",
              "          const docLink = document.createElement('div');\n",
              "          docLink.innerHTML = docLinkHtml;\n",
              "          element.appendChild(docLink);\n",
              "        }\n",
              "      </script>\n",
              "    </div>\n",
              "  </div>\n",
              "  "
            ]
          },
          "metadata": {},
          "execution_count": 100
        }
      ]
    },
    {
      "cell_type": "code",
      "source": [
        "# количество автомобилей с определённым состоянием\n",
        "df.groupby(['condition'])['id'].count().sort_values(ascending=False)"
      ],
      "metadata": {
        "colab": {
          "base_uri": "https://localhost:8080/"
        },
        "id": "UY0vlOU-7d2x",
        "outputId": "27cd26b6-6f5a-4ef8-b1f0-dde5380b71b2"
      },
      "id": "UY0vlOU-7d2x",
      "execution_count": 101,
      "outputs": [
        {
          "output_type": "execute_result",
          "data": {
            "text/plain": [
              "condition\n",
              "with mileage    55278\n",
              "with damage       512\n",
              "for parts         454\n",
              "Name: id, dtype: int64"
            ]
          },
          "metadata": {},
          "execution_count": 101
        }
      ]
    },
    {
      "cell_type": "code",
      "source": [
        "# общая стоимость автомобилей по годам\n",
        "df.groupby(['year'])['price(USD)'].sum()"
      ],
      "metadata": {
        "colab": {
          "base_uri": "https://localhost:8080/"
        },
        "id": "bd4ROP96QdC5",
        "outputId": "337946f8-9e2c-48bb-a45e-ba5b24311e8f"
      },
      "id": "bd4ROP96QdC5",
      "execution_count": 102,
      "outputs": [
        {
          "output_type": "execute_result",
          "data": {
            "text/plain": [
              "year\n",
              "1910          48\n",
              "1933       50000\n",
              "1936        4991\n",
              "1938       12500\n",
              "1942       17000\n",
              "          ...   \n",
              "2015    34360734\n",
              "2016    25811333\n",
              "2017    14398430\n",
              "2018    14049194\n",
              "2019     7530816\n",
              "Name: price(USD), Length: 78, dtype: int64"
            ]
          },
          "metadata": {},
          "execution_count": 102
        }
      ]
    },
    {
      "cell_type": "code",
      "source": [
        "# количество автомобилей по цветам\n",
        "df.groupby(['color'])['id'].count().sort_values(ascending=False)"
      ],
      "metadata": {
        "colab": {
          "base_uri": "https://localhost:8080/"
        },
        "id": "N7LwqVStQ5Al",
        "outputId": "2313e891-b376-4e4a-ea99-4d6f9591819f"
      },
      "id": "N7LwqVStQ5Al",
      "execution_count": 103,
      "outputs": [
        {
          "output_type": "execute_result",
          "data": {
            "text/plain": [
              "color\n",
              "black       12385\n",
              "silver      10075\n",
              "blue         8083\n",
              "gray         5807\n",
              "white        5292\n",
              "green        3911\n",
              "other        3397\n",
              "red          2744\n",
              "burgundy     2026\n",
              "brown        1349\n",
              "purple        625\n",
              "yellow        317\n",
              "orange        233\n",
              "Name: id, dtype: int64"
            ]
          },
          "metadata": {},
          "execution_count": 103
        }
      ]
    },
    {
      "cell_type": "code",
      "source": [
        "# средний пробег автомобилей по годам\n",
        "df.groupby(['year'])['mileage(kilometers)'].mean()"
      ],
      "metadata": {
        "colab": {
          "base_uri": "https://localhost:8080/"
        },
        "id": "fS3LyRPRRYoL",
        "outputId": "1f1f118b-3e89-4729-c7ff-716da079ff34"
      },
      "id": "fS3LyRPRRYoL",
      "execution_count": 104,
      "outputs": [
        {
          "output_type": "execute_result",
          "data": {
            "text/plain": [
              "year\n",
              "1910     25000.000000\n",
              "1933         1.000000\n",
              "1936    175000.000000\n",
              "1938    100000.000000\n",
              "1942     40000.000000\n",
              "            ...      \n",
              "2015    116479.730911\n",
              "2016    104386.793542\n",
              "2017     56678.885681\n",
              "2018     29489.473712\n",
              "2019      7164.508482\n",
              "Name: mileage(kilometers), Length: 78, dtype: float64"
            ]
          },
          "metadata": {},
          "execution_count": 104
        }
      ]
    },
    {
      "cell_type": "code",
      "source": [
        "# средний объём по годам\n",
        "df.groupby(['year'])['volume(cm3)'].mean()"
      ],
      "metadata": {
        "colab": {
          "base_uri": "https://localhost:8080/"
        },
        "id": "hFxfbqn-R0U2",
        "outputId": "cd9735b9-6050-432f-9bc7-11f0f11dde7d"
      },
      "id": "hFxfbqn-R0U2",
      "execution_count": 105,
      "outputs": [
        {
          "output_type": "execute_result",
          "data": {
            "text/plain": [
              "year\n",
              "1910    1100.000000\n",
              "1933    2400.000000\n",
              "1936    1800.000000\n",
              "1938    3000.000000\n",
              "1942    2000.000000\n",
              "           ...     \n",
              "2015    1861.145241\n",
              "2016    1808.975711\n",
              "2017    1934.270584\n",
              "2018    1955.915300\n",
              "2019    2063.342505\n",
              "Name: volume(cm3), Length: 78, dtype: float64"
            ]
          },
          "metadata": {},
          "execution_count": 105
        }
      ]
    },
    {
      "cell_type": "code",
      "source": [
        "# количество автмобилей по виду топлива\n",
        "df.groupby(['fuel_type'])['id'].count().sort_values(ascending=False)"
      ],
      "metadata": {
        "colab": {
          "base_uri": "https://localhost:8080/"
        },
        "id": "5YhUd_EZSPCa",
        "outputId": "67e3ab1e-cdb0-4a43-ca13-21432aa44f94"
      },
      "id": "5YhUd_EZSPCa",
      "execution_count": 106,
      "outputs": [
        {
          "output_type": "execute_result",
          "data": {
            "text/plain": [
              "fuel_type\n",
              "petrol        36405\n",
              "diesel        19792\n",
              "electrocar       47\n",
              "Name: id, dtype: int64"
            ]
          },
          "metadata": {},
          "execution_count": 106
        }
      ]
    },
    {
      "cell_type": "code",
      "source": [
        "# количество автомобилей определённого производителя\n",
        "df.groupby(['manufacture'])['id'].count().sort_values(ascending=False)"
      ],
      "metadata": {
        "colab": {
          "base_uri": "https://localhost:8080/"
        },
        "id": "H3vg7CSBSU5n",
        "outputId": "87556068-9598-4d44-ffec-736c476f368a"
      },
      "id": "H3vg7CSBSU5n",
      "execution_count": 108,
      "outputs": [
        {
          "output_type": "execute_result",
          "data": {
            "text/plain": [
              "manufacture\n",
              "volkswagen        6861\n",
              "audi              4030\n",
              "bmw               4013\n",
              "opel              3779\n",
              "renault           3713\n",
              "                  ... \n",
              "mclaren              1\n",
              "roewe                1\n",
              "jac                  1\n",
              "dong-feng            1\n",
              "shanghai-maple       1\n",
              "Name: id, Length: 96, dtype: int64"
            ]
          },
          "metadata": {},
          "execution_count": 108
        }
      ]
    },
    {
      "cell_type": "code",
      "source": [
        "# количество автомобилей по типу коробки передач\n",
        "df.groupby(['transmission'])['id'].count().sort_values(ascending=False)"
      ],
      "metadata": {
        "colab": {
          "base_uri": "https://localhost:8080/"
        },
        "id": "bCs10PrkSncZ",
        "outputId": "bd841878-2cc6-4a76-b547-9e8ae914d421"
      },
      "id": "bCs10PrkSncZ",
      "execution_count": 109,
      "outputs": [
        {
          "output_type": "execute_result",
          "data": {
            "text/plain": [
              "transmission\n",
              "mechanics    36056\n",
              "auto         20188\n",
              "Name: id, dtype: int64"
            ]
          },
          "metadata": {},
          "execution_count": 109
        }
      ]
    },
    {
      "cell_type": "markdown",
      "source": [
        "#### Добавление столбцов"
      ],
      "metadata": {
        "id": "9P2wrxXqf_h7"
      },
      "id": "9P2wrxXqf_h7"
    },
    {
      "cell_type": "code",
      "source": [
        "# возраст автомобиля\n",
        "current_year = 2022\n",
        "df['age'] = current_year - df['year']\n",
        "df.head()"
      ],
      "metadata": {
        "colab": {
          "base_uri": "https://localhost:8080/",
          "height": 206
        },
        "id": "tTikowdMTBcu",
        "outputId": "2e641456-7e6f-46a1-d15a-ede74ad28ca5"
      },
      "id": "tTikowdMTBcu",
      "execution_count": 110,
      "outputs": [
        {
          "output_type": "execute_result",
          "data": {
            "text/plain": [
              "  manufacture model  price(USD)  year     condition  mileage(kilometers)  \\\n",
              "0       mazda     2        5500  2008  with mileage             162000.0   \n",
              "1       mazda     2        5350  2009  with mileage             120000.0   \n",
              "2       mazda     2        7000  2009  with mileage              61000.0   \n",
              "3       mazda     2        3300  2003  with mileage             265000.0   \n",
              "4       mazda     2        5200  2008  with mileage              97183.0   \n",
              "\n",
              "  fuel_type  volume(cm3)     color transmission         drive_unit segment  \\\n",
              "0    petrol       1500.0  burgundy    mechanics  front-wheel drive       B   \n",
              "1    petrol       1300.0     black    mechanics  front-wheel drive       B   \n",
              "2    petrol       1500.0    silver         auto  front-wheel drive       B   \n",
              "3    diesel       1400.0     white    mechanics  front-wheel drive       B   \n",
              "4    diesel       1400.0      gray    mechanics  front-wheel drive       B   \n",
              "\n",
              "   id  age  \n",
              "0   0   14  \n",
              "1   1   13  \n",
              "2   2   13  \n",
              "3   3   19  \n",
              "4   4   14  "
            ],
            "text/html": [
              "\n",
              "  <div id=\"df-fc324aa6-3c27-4e94-8531-844ae0823f8d\">\n",
              "    <div class=\"colab-df-container\">\n",
              "      <div>\n",
              "<style scoped>\n",
              "    .dataframe tbody tr th:only-of-type {\n",
              "        vertical-align: middle;\n",
              "    }\n",
              "\n",
              "    .dataframe tbody tr th {\n",
              "        vertical-align: top;\n",
              "    }\n",
              "\n",
              "    .dataframe thead th {\n",
              "        text-align: right;\n",
              "    }\n",
              "</style>\n",
              "<table border=\"1\" class=\"dataframe\">\n",
              "  <thead>\n",
              "    <tr style=\"text-align: right;\">\n",
              "      <th></th>\n",
              "      <th>manufacture</th>\n",
              "      <th>model</th>\n",
              "      <th>price(USD)</th>\n",
              "      <th>year</th>\n",
              "      <th>condition</th>\n",
              "      <th>mileage(kilometers)</th>\n",
              "      <th>fuel_type</th>\n",
              "      <th>volume(cm3)</th>\n",
              "      <th>color</th>\n",
              "      <th>transmission</th>\n",
              "      <th>drive_unit</th>\n",
              "      <th>segment</th>\n",
              "      <th>id</th>\n",
              "      <th>age</th>\n",
              "    </tr>\n",
              "  </thead>\n",
              "  <tbody>\n",
              "    <tr>\n",
              "      <th>0</th>\n",
              "      <td>mazda</td>\n",
              "      <td>2</td>\n",
              "      <td>5500</td>\n",
              "      <td>2008</td>\n",
              "      <td>with mileage</td>\n",
              "      <td>162000.0</td>\n",
              "      <td>petrol</td>\n",
              "      <td>1500.0</td>\n",
              "      <td>burgundy</td>\n",
              "      <td>mechanics</td>\n",
              "      <td>front-wheel drive</td>\n",
              "      <td>B</td>\n",
              "      <td>0</td>\n",
              "      <td>14</td>\n",
              "    </tr>\n",
              "    <tr>\n",
              "      <th>1</th>\n",
              "      <td>mazda</td>\n",
              "      <td>2</td>\n",
              "      <td>5350</td>\n",
              "      <td>2009</td>\n",
              "      <td>with mileage</td>\n",
              "      <td>120000.0</td>\n",
              "      <td>petrol</td>\n",
              "      <td>1300.0</td>\n",
              "      <td>black</td>\n",
              "      <td>mechanics</td>\n",
              "      <td>front-wheel drive</td>\n",
              "      <td>B</td>\n",
              "      <td>1</td>\n",
              "      <td>13</td>\n",
              "    </tr>\n",
              "    <tr>\n",
              "      <th>2</th>\n",
              "      <td>mazda</td>\n",
              "      <td>2</td>\n",
              "      <td>7000</td>\n",
              "      <td>2009</td>\n",
              "      <td>with mileage</td>\n",
              "      <td>61000.0</td>\n",
              "      <td>petrol</td>\n",
              "      <td>1500.0</td>\n",
              "      <td>silver</td>\n",
              "      <td>auto</td>\n",
              "      <td>front-wheel drive</td>\n",
              "      <td>B</td>\n",
              "      <td>2</td>\n",
              "      <td>13</td>\n",
              "    </tr>\n",
              "    <tr>\n",
              "      <th>3</th>\n",
              "      <td>mazda</td>\n",
              "      <td>2</td>\n",
              "      <td>3300</td>\n",
              "      <td>2003</td>\n",
              "      <td>with mileage</td>\n",
              "      <td>265000.0</td>\n",
              "      <td>diesel</td>\n",
              "      <td>1400.0</td>\n",
              "      <td>white</td>\n",
              "      <td>mechanics</td>\n",
              "      <td>front-wheel drive</td>\n",
              "      <td>B</td>\n",
              "      <td>3</td>\n",
              "      <td>19</td>\n",
              "    </tr>\n",
              "    <tr>\n",
              "      <th>4</th>\n",
              "      <td>mazda</td>\n",
              "      <td>2</td>\n",
              "      <td>5200</td>\n",
              "      <td>2008</td>\n",
              "      <td>with mileage</td>\n",
              "      <td>97183.0</td>\n",
              "      <td>diesel</td>\n",
              "      <td>1400.0</td>\n",
              "      <td>gray</td>\n",
              "      <td>mechanics</td>\n",
              "      <td>front-wheel drive</td>\n",
              "      <td>B</td>\n",
              "      <td>4</td>\n",
              "      <td>14</td>\n",
              "    </tr>\n",
              "  </tbody>\n",
              "</table>\n",
              "</div>\n",
              "      <button class=\"colab-df-convert\" onclick=\"convertToInteractive('df-fc324aa6-3c27-4e94-8531-844ae0823f8d')\"\n",
              "              title=\"Convert this dataframe to an interactive table.\"\n",
              "              style=\"display:none;\">\n",
              "        \n",
              "  <svg xmlns=\"http://www.w3.org/2000/svg\" height=\"24px\"viewBox=\"0 0 24 24\"\n",
              "       width=\"24px\">\n",
              "    <path d=\"M0 0h24v24H0V0z\" fill=\"none\"/>\n",
              "    <path d=\"M18.56 5.44l.94 2.06.94-2.06 2.06-.94-2.06-.94-.94-2.06-.94 2.06-2.06.94zm-11 1L8.5 8.5l.94-2.06 2.06-.94-2.06-.94L8.5 2.5l-.94 2.06-2.06.94zm10 10l.94 2.06.94-2.06 2.06-.94-2.06-.94-.94-2.06-.94 2.06-2.06.94z\"/><path d=\"M17.41 7.96l-1.37-1.37c-.4-.4-.92-.59-1.43-.59-.52 0-1.04.2-1.43.59L10.3 9.45l-7.72 7.72c-.78.78-.78 2.05 0 2.83L4 21.41c.39.39.9.59 1.41.59.51 0 1.02-.2 1.41-.59l7.78-7.78 2.81-2.81c.8-.78.8-2.07 0-2.86zM5.41 20L4 18.59l7.72-7.72 1.47 1.35L5.41 20z\"/>\n",
              "  </svg>\n",
              "      </button>\n",
              "      \n",
              "  <style>\n",
              "    .colab-df-container {\n",
              "      display:flex;\n",
              "      flex-wrap:wrap;\n",
              "      gap: 12px;\n",
              "    }\n",
              "\n",
              "    .colab-df-convert {\n",
              "      background-color: #E8F0FE;\n",
              "      border: none;\n",
              "      border-radius: 50%;\n",
              "      cursor: pointer;\n",
              "      display: none;\n",
              "      fill: #1967D2;\n",
              "      height: 32px;\n",
              "      padding: 0 0 0 0;\n",
              "      width: 32px;\n",
              "    }\n",
              "\n",
              "    .colab-df-convert:hover {\n",
              "      background-color: #E2EBFA;\n",
              "      box-shadow: 0px 1px 2px rgba(60, 64, 67, 0.3), 0px 1px 3px 1px rgba(60, 64, 67, 0.15);\n",
              "      fill: #174EA6;\n",
              "    }\n",
              "\n",
              "    [theme=dark] .colab-df-convert {\n",
              "      background-color: #3B4455;\n",
              "      fill: #D2E3FC;\n",
              "    }\n",
              "\n",
              "    [theme=dark] .colab-df-convert:hover {\n",
              "      background-color: #434B5C;\n",
              "      box-shadow: 0px 1px 3px 1px rgba(0, 0, 0, 0.15);\n",
              "      filter: drop-shadow(0px 1px 2px rgba(0, 0, 0, 0.3));\n",
              "      fill: #FFFFFF;\n",
              "    }\n",
              "  </style>\n",
              "\n",
              "      <script>\n",
              "        const buttonEl =\n",
              "          document.querySelector('#df-fc324aa6-3c27-4e94-8531-844ae0823f8d button.colab-df-convert');\n",
              "        buttonEl.style.display =\n",
              "          google.colab.kernel.accessAllowed ? 'block' : 'none';\n",
              "\n",
              "        async function convertToInteractive(key) {\n",
              "          const element = document.querySelector('#df-fc324aa6-3c27-4e94-8531-844ae0823f8d');\n",
              "          const dataTable =\n",
              "            await google.colab.kernel.invokeFunction('convertToInteractive',\n",
              "                                                     [key], {});\n",
              "          if (!dataTable) return;\n",
              "\n",
              "          const docLinkHtml = 'Like what you see? Visit the ' +\n",
              "            '<a target=\"_blank\" href=https://colab.research.google.com/notebooks/data_table.ipynb>data table notebook</a>'\n",
              "            + ' to learn more about interactive tables.';\n",
              "          element.innerHTML = '';\n",
              "          dataTable['output_type'] = 'display_data';\n",
              "          await google.colab.output.renderOutput(dataTable, element);\n",
              "          const docLink = document.createElement('div');\n",
              "          docLink.innerHTML = docLinkHtml;\n",
              "          element.appendChild(docLink);\n",
              "        }\n",
              "      </script>\n",
              "    </div>\n",
              "  </div>\n",
              "  "
            ]
          },
          "metadata": {},
          "execution_count": 110
        }
      ]
    },
    {
      "cell_type": "code",
      "source": [
        "# процент от максимальной цены\n",
        "df['price_percentage'] = (df['price(USD)'] / max(df['price(USD)'])) * 100\n",
        "df.head()"
      ],
      "metadata": {
        "colab": {
          "base_uri": "https://localhost:8080/",
          "height": 206
        },
        "id": "nLn-YwLtTror",
        "outputId": "437939d9-7171-4eb3-c26f-8b64323b899e"
      },
      "id": "nLn-YwLtTror",
      "execution_count": 111,
      "outputs": [
        {
          "output_type": "execute_result",
          "data": {
            "text/plain": [
              "  manufacture model  price(USD)  year     condition  mileage(kilometers)  \\\n",
              "0       mazda     2        5500  2008  with mileage             162000.0   \n",
              "1       mazda     2        5350  2009  with mileage             120000.0   \n",
              "2       mazda     2        7000  2009  with mileage              61000.0   \n",
              "3       mazda     2        3300  2003  with mileage             265000.0   \n",
              "4       mazda     2        5200  2008  with mileage              97183.0   \n",
              "\n",
              "  fuel_type  volume(cm3)     color transmission         drive_unit segment  \\\n",
              "0    petrol       1500.0  burgundy    mechanics  front-wheel drive       B   \n",
              "1    petrol       1300.0     black    mechanics  front-wheel drive       B   \n",
              "2    petrol       1500.0    silver         auto  front-wheel drive       B   \n",
              "3    diesel       1400.0     white    mechanics  front-wheel drive       B   \n",
              "4    diesel       1400.0      gray    mechanics  front-wheel drive       B   \n",
              "\n",
              "   id  age  price_percentage  \n",
              "0   0   14          2.338087  \n",
              "1   1   13          2.274321  \n",
              "2   2   13          2.975748  \n",
              "3   3   19          1.402852  \n",
              "4   4   14          2.210555  "
            ],
            "text/html": [
              "\n",
              "  <div id=\"df-8f8ab601-5d1b-4c91-a62e-90b08275f025\">\n",
              "    <div class=\"colab-df-container\">\n",
              "      <div>\n",
              "<style scoped>\n",
              "    .dataframe tbody tr th:only-of-type {\n",
              "        vertical-align: middle;\n",
              "    }\n",
              "\n",
              "    .dataframe tbody tr th {\n",
              "        vertical-align: top;\n",
              "    }\n",
              "\n",
              "    .dataframe thead th {\n",
              "        text-align: right;\n",
              "    }\n",
              "</style>\n",
              "<table border=\"1\" class=\"dataframe\">\n",
              "  <thead>\n",
              "    <tr style=\"text-align: right;\">\n",
              "      <th></th>\n",
              "      <th>manufacture</th>\n",
              "      <th>model</th>\n",
              "      <th>price(USD)</th>\n",
              "      <th>year</th>\n",
              "      <th>condition</th>\n",
              "      <th>mileage(kilometers)</th>\n",
              "      <th>fuel_type</th>\n",
              "      <th>volume(cm3)</th>\n",
              "      <th>color</th>\n",
              "      <th>transmission</th>\n",
              "      <th>drive_unit</th>\n",
              "      <th>segment</th>\n",
              "      <th>id</th>\n",
              "      <th>age</th>\n",
              "      <th>price_percentage</th>\n",
              "    </tr>\n",
              "  </thead>\n",
              "  <tbody>\n",
              "    <tr>\n",
              "      <th>0</th>\n",
              "      <td>mazda</td>\n",
              "      <td>2</td>\n",
              "      <td>5500</td>\n",
              "      <td>2008</td>\n",
              "      <td>with mileage</td>\n",
              "      <td>162000.0</td>\n",
              "      <td>petrol</td>\n",
              "      <td>1500.0</td>\n",
              "      <td>burgundy</td>\n",
              "      <td>mechanics</td>\n",
              "      <td>front-wheel drive</td>\n",
              "      <td>B</td>\n",
              "      <td>0</td>\n",
              "      <td>14</td>\n",
              "      <td>2.338087</td>\n",
              "    </tr>\n",
              "    <tr>\n",
              "      <th>1</th>\n",
              "      <td>mazda</td>\n",
              "      <td>2</td>\n",
              "      <td>5350</td>\n",
              "      <td>2009</td>\n",
              "      <td>with mileage</td>\n",
              "      <td>120000.0</td>\n",
              "      <td>petrol</td>\n",
              "      <td>1300.0</td>\n",
              "      <td>black</td>\n",
              "      <td>mechanics</td>\n",
              "      <td>front-wheel drive</td>\n",
              "      <td>B</td>\n",
              "      <td>1</td>\n",
              "      <td>13</td>\n",
              "      <td>2.274321</td>\n",
              "    </tr>\n",
              "    <tr>\n",
              "      <th>2</th>\n",
              "      <td>mazda</td>\n",
              "      <td>2</td>\n",
              "      <td>7000</td>\n",
              "      <td>2009</td>\n",
              "      <td>with mileage</td>\n",
              "      <td>61000.0</td>\n",
              "      <td>petrol</td>\n",
              "      <td>1500.0</td>\n",
              "      <td>silver</td>\n",
              "      <td>auto</td>\n",
              "      <td>front-wheel drive</td>\n",
              "      <td>B</td>\n",
              "      <td>2</td>\n",
              "      <td>13</td>\n",
              "      <td>2.975748</td>\n",
              "    </tr>\n",
              "    <tr>\n",
              "      <th>3</th>\n",
              "      <td>mazda</td>\n",
              "      <td>2</td>\n",
              "      <td>3300</td>\n",
              "      <td>2003</td>\n",
              "      <td>with mileage</td>\n",
              "      <td>265000.0</td>\n",
              "      <td>diesel</td>\n",
              "      <td>1400.0</td>\n",
              "      <td>white</td>\n",
              "      <td>mechanics</td>\n",
              "      <td>front-wheel drive</td>\n",
              "      <td>B</td>\n",
              "      <td>3</td>\n",
              "      <td>19</td>\n",
              "      <td>1.402852</td>\n",
              "    </tr>\n",
              "    <tr>\n",
              "      <th>4</th>\n",
              "      <td>mazda</td>\n",
              "      <td>2</td>\n",
              "      <td>5200</td>\n",
              "      <td>2008</td>\n",
              "      <td>with mileage</td>\n",
              "      <td>97183.0</td>\n",
              "      <td>diesel</td>\n",
              "      <td>1400.0</td>\n",
              "      <td>gray</td>\n",
              "      <td>mechanics</td>\n",
              "      <td>front-wheel drive</td>\n",
              "      <td>B</td>\n",
              "      <td>4</td>\n",
              "      <td>14</td>\n",
              "      <td>2.210555</td>\n",
              "    </tr>\n",
              "  </tbody>\n",
              "</table>\n",
              "</div>\n",
              "      <button class=\"colab-df-convert\" onclick=\"convertToInteractive('df-8f8ab601-5d1b-4c91-a62e-90b08275f025')\"\n",
              "              title=\"Convert this dataframe to an interactive table.\"\n",
              "              style=\"display:none;\">\n",
              "        \n",
              "  <svg xmlns=\"http://www.w3.org/2000/svg\" height=\"24px\"viewBox=\"0 0 24 24\"\n",
              "       width=\"24px\">\n",
              "    <path d=\"M0 0h24v24H0V0z\" fill=\"none\"/>\n",
              "    <path d=\"M18.56 5.44l.94 2.06.94-2.06 2.06-.94-2.06-.94-.94-2.06-.94 2.06-2.06.94zm-11 1L8.5 8.5l.94-2.06 2.06-.94-2.06-.94L8.5 2.5l-.94 2.06-2.06.94zm10 10l.94 2.06.94-2.06 2.06-.94-2.06-.94-.94-2.06-.94 2.06-2.06.94z\"/><path d=\"M17.41 7.96l-1.37-1.37c-.4-.4-.92-.59-1.43-.59-.52 0-1.04.2-1.43.59L10.3 9.45l-7.72 7.72c-.78.78-.78 2.05 0 2.83L4 21.41c.39.39.9.59 1.41.59.51 0 1.02-.2 1.41-.59l7.78-7.78 2.81-2.81c.8-.78.8-2.07 0-2.86zM5.41 20L4 18.59l7.72-7.72 1.47 1.35L5.41 20z\"/>\n",
              "  </svg>\n",
              "      </button>\n",
              "      \n",
              "  <style>\n",
              "    .colab-df-container {\n",
              "      display:flex;\n",
              "      flex-wrap:wrap;\n",
              "      gap: 12px;\n",
              "    }\n",
              "\n",
              "    .colab-df-convert {\n",
              "      background-color: #E8F0FE;\n",
              "      border: none;\n",
              "      border-radius: 50%;\n",
              "      cursor: pointer;\n",
              "      display: none;\n",
              "      fill: #1967D2;\n",
              "      height: 32px;\n",
              "      padding: 0 0 0 0;\n",
              "      width: 32px;\n",
              "    }\n",
              "\n",
              "    .colab-df-convert:hover {\n",
              "      background-color: #E2EBFA;\n",
              "      box-shadow: 0px 1px 2px rgba(60, 64, 67, 0.3), 0px 1px 3px 1px rgba(60, 64, 67, 0.15);\n",
              "      fill: #174EA6;\n",
              "    }\n",
              "\n",
              "    [theme=dark] .colab-df-convert {\n",
              "      background-color: #3B4455;\n",
              "      fill: #D2E3FC;\n",
              "    }\n",
              "\n",
              "    [theme=dark] .colab-df-convert:hover {\n",
              "      background-color: #434B5C;\n",
              "      box-shadow: 0px 1px 3px 1px rgba(0, 0, 0, 0.15);\n",
              "      filter: drop-shadow(0px 1px 2px rgba(0, 0, 0, 0.3));\n",
              "      fill: #FFFFFF;\n",
              "    }\n",
              "  </style>\n",
              "\n",
              "      <script>\n",
              "        const buttonEl =\n",
              "          document.querySelector('#df-8f8ab601-5d1b-4c91-a62e-90b08275f025 button.colab-df-convert');\n",
              "        buttonEl.style.display =\n",
              "          google.colab.kernel.accessAllowed ? 'block' : 'none';\n",
              "\n",
              "        async function convertToInteractive(key) {\n",
              "          const element = document.querySelector('#df-8f8ab601-5d1b-4c91-a62e-90b08275f025');\n",
              "          const dataTable =\n",
              "            await google.colab.kernel.invokeFunction('convertToInteractive',\n",
              "                                                     [key], {});\n",
              "          if (!dataTable) return;\n",
              "\n",
              "          const docLinkHtml = 'Like what you see? Visit the ' +\n",
              "            '<a target=\"_blank\" href=https://colab.research.google.com/notebooks/data_table.ipynb>data table notebook</a>'\n",
              "            + ' to learn more about interactive tables.';\n",
              "          element.innerHTML = '';\n",
              "          dataTable['output_type'] = 'display_data';\n",
              "          await google.colab.output.renderOutput(dataTable, element);\n",
              "          const docLink = document.createElement('div');\n",
              "          docLink.innerHTML = docLinkHtml;\n",
              "          element.appendChild(docLink);\n",
              "        }\n",
              "      </script>\n",
              "    </div>\n",
              "  </div>\n",
              "  "
            ]
          },
          "metadata": {},
          "execution_count": 111
        }
      ]
    },
    {
      "cell_type": "code",
      "source": [
        "# процент от максимального пробега\n",
        "df['mileage_procent'] = (df['mileage(kilometers)'] / max(df['mileage(kilometers)'])) * 100\n",
        "df.head()"
      ],
      "metadata": {
        "colab": {
          "base_uri": "https://localhost:8080/",
          "height": 206
        },
        "id": "7ztZIRlkUmp-",
        "outputId": "63bb48c8-ee28-4c8d-e1aa-e83a7bb722c5"
      },
      "id": "7ztZIRlkUmp-",
      "execution_count": 112,
      "outputs": [
        {
          "output_type": "execute_result",
          "data": {
            "text/plain": [
              "  manufacture model  price(USD)  year     condition  mileage(kilometers)  \\\n",
              "0       mazda     2        5500  2008  with mileage             162000.0   \n",
              "1       mazda     2        5350  2009  with mileage             120000.0   \n",
              "2       mazda     2        7000  2009  with mileage              61000.0   \n",
              "3       mazda     2        3300  2003  with mileage             265000.0   \n",
              "4       mazda     2        5200  2008  with mileage              97183.0   \n",
              "\n",
              "  fuel_type  volume(cm3)     color transmission         drive_unit segment  \\\n",
              "0    petrol       1500.0  burgundy    mechanics  front-wheel drive       B   \n",
              "1    petrol       1300.0     black    mechanics  front-wheel drive       B   \n",
              "2    petrol       1500.0    silver         auto  front-wheel drive       B   \n",
              "3    diesel       1400.0     white    mechanics  front-wheel drive       B   \n",
              "4    diesel       1400.0      gray    mechanics  front-wheel drive       B   \n",
              "\n",
              "   id  age  price_percentage  mileage_procent  \n",
              "0   0   14          2.338087          1.62000  \n",
              "1   1   13          2.274321          1.20000  \n",
              "2   2   13          2.975748          0.61000  \n",
              "3   3   19          1.402852          2.65000  \n",
              "4   4   14          2.210555          0.97183  "
            ],
            "text/html": [
              "\n",
              "  <div id=\"df-c6b257e3-53d3-485e-aa16-f678ad42644f\">\n",
              "    <div class=\"colab-df-container\">\n",
              "      <div>\n",
              "<style scoped>\n",
              "    .dataframe tbody tr th:only-of-type {\n",
              "        vertical-align: middle;\n",
              "    }\n",
              "\n",
              "    .dataframe tbody tr th {\n",
              "        vertical-align: top;\n",
              "    }\n",
              "\n",
              "    .dataframe thead th {\n",
              "        text-align: right;\n",
              "    }\n",
              "</style>\n",
              "<table border=\"1\" class=\"dataframe\">\n",
              "  <thead>\n",
              "    <tr style=\"text-align: right;\">\n",
              "      <th></th>\n",
              "      <th>manufacture</th>\n",
              "      <th>model</th>\n",
              "      <th>price(USD)</th>\n",
              "      <th>year</th>\n",
              "      <th>condition</th>\n",
              "      <th>mileage(kilometers)</th>\n",
              "      <th>fuel_type</th>\n",
              "      <th>volume(cm3)</th>\n",
              "      <th>color</th>\n",
              "      <th>transmission</th>\n",
              "      <th>drive_unit</th>\n",
              "      <th>segment</th>\n",
              "      <th>id</th>\n",
              "      <th>age</th>\n",
              "      <th>price_percentage</th>\n",
              "      <th>mileage_procent</th>\n",
              "    </tr>\n",
              "  </thead>\n",
              "  <tbody>\n",
              "    <tr>\n",
              "      <th>0</th>\n",
              "      <td>mazda</td>\n",
              "      <td>2</td>\n",
              "      <td>5500</td>\n",
              "      <td>2008</td>\n",
              "      <td>with mileage</td>\n",
              "      <td>162000.0</td>\n",
              "      <td>petrol</td>\n",
              "      <td>1500.0</td>\n",
              "      <td>burgundy</td>\n",
              "      <td>mechanics</td>\n",
              "      <td>front-wheel drive</td>\n",
              "      <td>B</td>\n",
              "      <td>0</td>\n",
              "      <td>14</td>\n",
              "      <td>2.338087</td>\n",
              "      <td>1.62000</td>\n",
              "    </tr>\n",
              "    <tr>\n",
              "      <th>1</th>\n",
              "      <td>mazda</td>\n",
              "      <td>2</td>\n",
              "      <td>5350</td>\n",
              "      <td>2009</td>\n",
              "      <td>with mileage</td>\n",
              "      <td>120000.0</td>\n",
              "      <td>petrol</td>\n",
              "      <td>1300.0</td>\n",
              "      <td>black</td>\n",
              "      <td>mechanics</td>\n",
              "      <td>front-wheel drive</td>\n",
              "      <td>B</td>\n",
              "      <td>1</td>\n",
              "      <td>13</td>\n",
              "      <td>2.274321</td>\n",
              "      <td>1.20000</td>\n",
              "    </tr>\n",
              "    <tr>\n",
              "      <th>2</th>\n",
              "      <td>mazda</td>\n",
              "      <td>2</td>\n",
              "      <td>7000</td>\n",
              "      <td>2009</td>\n",
              "      <td>with mileage</td>\n",
              "      <td>61000.0</td>\n",
              "      <td>petrol</td>\n",
              "      <td>1500.0</td>\n",
              "      <td>silver</td>\n",
              "      <td>auto</td>\n",
              "      <td>front-wheel drive</td>\n",
              "      <td>B</td>\n",
              "      <td>2</td>\n",
              "      <td>13</td>\n",
              "      <td>2.975748</td>\n",
              "      <td>0.61000</td>\n",
              "    </tr>\n",
              "    <tr>\n",
              "      <th>3</th>\n",
              "      <td>mazda</td>\n",
              "      <td>2</td>\n",
              "      <td>3300</td>\n",
              "      <td>2003</td>\n",
              "      <td>with mileage</td>\n",
              "      <td>265000.0</td>\n",
              "      <td>diesel</td>\n",
              "      <td>1400.0</td>\n",
              "      <td>white</td>\n",
              "      <td>mechanics</td>\n",
              "      <td>front-wheel drive</td>\n",
              "      <td>B</td>\n",
              "      <td>3</td>\n",
              "      <td>19</td>\n",
              "      <td>1.402852</td>\n",
              "      <td>2.65000</td>\n",
              "    </tr>\n",
              "    <tr>\n",
              "      <th>4</th>\n",
              "      <td>mazda</td>\n",
              "      <td>2</td>\n",
              "      <td>5200</td>\n",
              "      <td>2008</td>\n",
              "      <td>with mileage</td>\n",
              "      <td>97183.0</td>\n",
              "      <td>diesel</td>\n",
              "      <td>1400.0</td>\n",
              "      <td>gray</td>\n",
              "      <td>mechanics</td>\n",
              "      <td>front-wheel drive</td>\n",
              "      <td>B</td>\n",
              "      <td>4</td>\n",
              "      <td>14</td>\n",
              "      <td>2.210555</td>\n",
              "      <td>0.97183</td>\n",
              "    </tr>\n",
              "  </tbody>\n",
              "</table>\n",
              "</div>\n",
              "      <button class=\"colab-df-convert\" onclick=\"convertToInteractive('df-c6b257e3-53d3-485e-aa16-f678ad42644f')\"\n",
              "              title=\"Convert this dataframe to an interactive table.\"\n",
              "              style=\"display:none;\">\n",
              "        \n",
              "  <svg xmlns=\"http://www.w3.org/2000/svg\" height=\"24px\"viewBox=\"0 0 24 24\"\n",
              "       width=\"24px\">\n",
              "    <path d=\"M0 0h24v24H0V0z\" fill=\"none\"/>\n",
              "    <path d=\"M18.56 5.44l.94 2.06.94-2.06 2.06-.94-2.06-.94-.94-2.06-.94 2.06-2.06.94zm-11 1L8.5 8.5l.94-2.06 2.06-.94-2.06-.94L8.5 2.5l-.94 2.06-2.06.94zm10 10l.94 2.06.94-2.06 2.06-.94-2.06-.94-.94-2.06-.94 2.06-2.06.94z\"/><path d=\"M17.41 7.96l-1.37-1.37c-.4-.4-.92-.59-1.43-.59-.52 0-1.04.2-1.43.59L10.3 9.45l-7.72 7.72c-.78.78-.78 2.05 0 2.83L4 21.41c.39.39.9.59 1.41.59.51 0 1.02-.2 1.41-.59l7.78-7.78 2.81-2.81c.8-.78.8-2.07 0-2.86zM5.41 20L4 18.59l7.72-7.72 1.47 1.35L5.41 20z\"/>\n",
              "  </svg>\n",
              "      </button>\n",
              "      \n",
              "  <style>\n",
              "    .colab-df-container {\n",
              "      display:flex;\n",
              "      flex-wrap:wrap;\n",
              "      gap: 12px;\n",
              "    }\n",
              "\n",
              "    .colab-df-convert {\n",
              "      background-color: #E8F0FE;\n",
              "      border: none;\n",
              "      border-radius: 50%;\n",
              "      cursor: pointer;\n",
              "      display: none;\n",
              "      fill: #1967D2;\n",
              "      height: 32px;\n",
              "      padding: 0 0 0 0;\n",
              "      width: 32px;\n",
              "    }\n",
              "\n",
              "    .colab-df-convert:hover {\n",
              "      background-color: #E2EBFA;\n",
              "      box-shadow: 0px 1px 2px rgba(60, 64, 67, 0.3), 0px 1px 3px 1px rgba(60, 64, 67, 0.15);\n",
              "      fill: #174EA6;\n",
              "    }\n",
              "\n",
              "    [theme=dark] .colab-df-convert {\n",
              "      background-color: #3B4455;\n",
              "      fill: #D2E3FC;\n",
              "    }\n",
              "\n",
              "    [theme=dark] .colab-df-convert:hover {\n",
              "      background-color: #434B5C;\n",
              "      box-shadow: 0px 1px 3px 1px rgba(0, 0, 0, 0.15);\n",
              "      filter: drop-shadow(0px 1px 2px rgba(0, 0, 0, 0.3));\n",
              "      fill: #FFFFFF;\n",
              "    }\n",
              "  </style>\n",
              "\n",
              "      <script>\n",
              "        const buttonEl =\n",
              "          document.querySelector('#df-c6b257e3-53d3-485e-aa16-f678ad42644f button.colab-df-convert');\n",
              "        buttonEl.style.display =\n",
              "          google.colab.kernel.accessAllowed ? 'block' : 'none';\n",
              "\n",
              "        async function convertToInteractive(key) {\n",
              "          const element = document.querySelector('#df-c6b257e3-53d3-485e-aa16-f678ad42644f');\n",
              "          const dataTable =\n",
              "            await google.colab.kernel.invokeFunction('convertToInteractive',\n",
              "                                                     [key], {});\n",
              "          if (!dataTable) return;\n",
              "\n",
              "          const docLinkHtml = 'Like what you see? Visit the ' +\n",
              "            '<a target=\"_blank\" href=https://colab.research.google.com/notebooks/data_table.ipynb>data table notebook</a>'\n",
              "            + ' to learn more about interactive tables.';\n",
              "          element.innerHTML = '';\n",
              "          dataTable['output_type'] = 'display_data';\n",
              "          await google.colab.output.renderOutput(dataTable, element);\n",
              "          const docLink = document.createElement('div');\n",
              "          docLink.innerHTML = docLinkHtml;\n",
              "          element.appendChild(docLink);\n",
              "        }\n",
              "      </script>\n",
              "    </div>\n",
              "  </div>\n",
              "  "
            ]
          },
          "metadata": {},
          "execution_count": 112
        }
      ]
    },
    {
      "cell_type": "markdown",
      "id": "nearby-array",
      "metadata": {
        "id": "nearby-array"
      },
      "source": [
        "### Numpy"
      ]
    },
    {
      "cell_type": "markdown",
      "id": "durable-freeware",
      "metadata": {
        "id": "durable-freeware"
      },
      "source": [
        "1. Вычислите A + B, A - B\n",
        " \n",
        " $\\\\\n",
        "A = \\left(\n",
        "\\begin{array}{cccc}\n",
        "1 & -2 & 4\\\\\n",
        "2 & 0 & -1\\\\\n",
        "\\end{array}\n",
        "\\right), B = \\left(\n",
        "\\begin{array}{cccc}\n",
        "5 & 2 & 3\\\\\n",
        "4 & 6 & 2\\\\\n",
        "\\end{array}\n",
        "\\right)$"
      ]
    },
    {
      "cell_type": "code",
      "execution_count": 124,
      "id": "eligible-finding",
      "metadata": {
        "id": "eligible-finding"
      },
      "outputs": [],
      "source": [
        "A = np.array([[1, -2, 4], [2, 0, -1]])\n",
        "B = np.array([[5, 2, 3], [4, 6, 2]])"
      ]
    },
    {
      "cell_type": "code",
      "source": [
        "A + B"
      ],
      "metadata": {
        "colab": {
          "base_uri": "https://localhost:8080/"
        },
        "id": "lRGR-wGUl2x0",
        "outputId": "f09708d6-fe35-4b10-b79a-542ba6a312e0"
      },
      "id": "lRGR-wGUl2x0",
      "execution_count": 125,
      "outputs": [
        {
          "output_type": "execute_result",
          "data": {
            "text/plain": [
              "array([[6, 0, 7],\n",
              "       [6, 6, 1]])"
            ]
          },
          "metadata": {},
          "execution_count": 125
        }
      ]
    },
    {
      "cell_type": "code",
      "source": [
        "A - B"
      ],
      "metadata": {
        "colab": {
          "base_uri": "https://localhost:8080/"
        },
        "id": "NmfCHWsql8TX",
        "outputId": "bfd396c0-c266-42c0-b514-78191a9c5253"
      },
      "id": "NmfCHWsql8TX",
      "execution_count": 126,
      "outputs": [
        {
          "output_type": "execute_result",
          "data": {
            "text/plain": [
              "array([[-4, -4,  1],\n",
              "       [-2, -6, -3]])"
            ]
          },
          "metadata": {},
          "execution_count": 126
        }
      ]
    },
    {
      "cell_type": "markdown",
      "id": "certified-andrew",
      "metadata": {
        "id": "certified-andrew"
      },
      "source": [
        "2. Найдите матрицу С = A - 3B\n",
        " \n",
        " $\\\\\n",
        "A = \\left(\n",
        "\\begin{array}{cccc}\n",
        "1 & 2 \\\\\n",
        "2 & -1\\\\\n",
        "3 & 0\\\\\n",
        "\\end{array}\n",
        "\\right), B = \\left(\n",
        "\\begin{array}{cccc}\n",
        "-1 & 1 \\\\\n",
        "1 & 2\\\\\n",
        "0 & 0\\\\\n",
        "\\end{array}\n",
        "\\right)$"
      ]
    },
    {
      "cell_type": "code",
      "source": [
        "A = np.array([\n",
        "    [1, 2],\n",
        "    [2, -1],\n",
        "    [3, 0]\n",
        "    ])\n",
        "\n",
        "B = np.array([\n",
        "    [-1, 1],\n",
        "    [1, 2],\n",
        "    [0, 0]\n",
        "    ])"
      ],
      "metadata": {
        "id": "o200_pLJmBW2"
      },
      "id": "o200_pLJmBW2",
      "execution_count": 127,
      "outputs": []
    },
    {
      "cell_type": "code",
      "source": [
        "C = A - 3 * B\n",
        "C"
      ],
      "metadata": {
        "colab": {
          "base_uri": "https://localhost:8080/"
        },
        "id": "OzuMegj4mmd-",
        "outputId": "4b506d84-f9de-486e-f415-20570f36343a"
      },
      "id": "OzuMegj4mmd-",
      "execution_count": 128,
      "outputs": [
        {
          "output_type": "execute_result",
          "data": {
            "text/plain": [
              "array([[ 4, -1],\n",
              "       [-1, -7],\n",
              "       [ 3,  0]])"
            ]
          },
          "metadata": {},
          "execution_count": 128
        }
      ]
    },
    {
      "cell_type": "markdown",
      "id": "motivated-mason",
      "metadata": {
        "id": "motivated-mason"
      },
      "source": [
        "3. Вычислите С = AB\n",
        " \n",
        " $\\\\\n",
        "A = \\left(\n",
        "\\begin{array}{cccc}\n",
        "1 & -1 \\\\\n",
        "2 & 0\\\\\n",
        "3 & 0\\\\\n",
        "\\end{array}\n",
        "\\right), B = \\left(\n",
        "\\begin{array}{cccc}\n",
        "1 & 1 \\\\\n",
        "2 & 0\\\\\n",
        "\\end{array}\n",
        "\\right)$"
      ]
    },
    {
      "cell_type": "code",
      "source": [
        "A = np.array([\n",
        "    [1, -1],\n",
        "    [2, 0],\n",
        "    [3, 0]\n",
        "])\n",
        "\n",
        "B = np.array([\n",
        "   [1, 1],\n",
        "   [2, 0] \n",
        "])"
      ],
      "metadata": {
        "id": "frZXVtQCm3Kd"
      },
      "id": "frZXVtQCm3Kd",
      "execution_count": 129,
      "outputs": []
    },
    {
      "cell_type": "code",
      "source": [
        "C = A@B\n",
        "C"
      ],
      "metadata": {
        "colab": {
          "base_uri": "https://localhost:8080/"
        },
        "id": "8pVZYN_7oFcH",
        "outputId": "e43b0d2f-32c9-489a-db36-8c34ba3b94c1"
      },
      "id": "8pVZYN_7oFcH",
      "execution_count": 130,
      "outputs": [
        {
          "output_type": "execute_result",
          "data": {
            "text/plain": [
              "array([[-1,  1],\n",
              "       [ 2,  2],\n",
              "       [ 3,  3]])"
            ]
          },
          "metadata": {},
          "execution_count": 130
        }
      ]
    },
    {
      "cell_type": "markdown",
      "id": "chemical-thomson",
      "metadata": {
        "id": "chemical-thomson"
      },
      "source": [
        "4. Вычислите определитель матрицы А\n",
        " \n",
        " $\\\\\n",
        "A = \\left(\n",
        "\\begin{array}{cccc}\n",
        "6 & -1 & 4\\\\\n",
        "2 & 1 & 10\\\\\n",
        "8 & 0 & 2\\\\\n",
        "\\end{array}\n",
        "\\right)$"
      ]
    },
    {
      "cell_type": "code",
      "source": [
        "A = np.array([\n",
        "    [6, -1, 4],\n",
        "    [2, 1, 10],\n",
        "    [8, 0, 2]\n",
        "])\n",
        "\n",
        "np.linalg.det(A)"
      ],
      "metadata": {
        "colab": {
          "base_uri": "https://localhost:8080/"
        },
        "id": "FMEmL5a6oRk0",
        "outputId": "75d51b4d-3b6c-4f4a-d84e-5af8d95b7d44"
      },
      "id": "FMEmL5a6oRk0",
      "execution_count": 131,
      "outputs": [
        {
          "output_type": "execute_result",
          "data": {
            "text/plain": [
              "-95.99999999999999"
            ]
          },
          "metadata": {},
          "execution_count": 131
        }
      ]
    },
    {
      "cell_type": "markdown",
      "id": "unlimited-throw",
      "metadata": {
        "id": "unlimited-throw"
      },
      "source": [
        "5. Вычислите матрицу, обратную матрице А. И покажите, что она действительно является обратной\n",
        " \n",
        " $\\\\\n",
        "A = \\left(\n",
        "\\begin{array}{cccc}\n",
        "3 & 3 & -1\\\\\n",
        "4 & 1 & 3\\\\\n",
        "1 & -2 & -2\\\\\n",
        "\\end{array}\n",
        "\\right)$"
      ]
    },
    {
      "cell_type": "code",
      "execution_count": 132,
      "id": "about-national",
      "metadata": {
        "id": "about-national",
        "colab": {
          "base_uri": "https://localhost:8080/"
        },
        "outputId": "d0076c98-7987-4983-a2ea-27f8da5ad61d"
      },
      "outputs": [
        {
          "output_type": "execute_result",
          "data": {
            "text/plain": [
              "array([[ 0.07407407,  0.14814815,  0.18518519],\n",
              "       [ 0.2037037 , -0.09259259, -0.24074074],\n",
              "       [-0.16666667,  0.16666667, -0.16666667]])"
            ]
          },
          "metadata": {},
          "execution_count": 132
        }
      ],
      "source": [
        "A = np.array([\n",
        "    [3, 3, -1],\n",
        "    [4, 1, 3],\n",
        "    [1, -2, -2]\n",
        "])\n",
        "B = np.linalg.inv(A)\n",
        "B"
      ]
    },
    {
      "cell_type": "code",
      "source": [
        "A @ B"
      ],
      "metadata": {
        "colab": {
          "base_uri": "https://localhost:8080/"
        },
        "id": "0V8ZsUKVpNeK",
        "outputId": "cc62dae7-3469-414c-9f97-c60d116a38e1"
      },
      "id": "0V8ZsUKVpNeK",
      "execution_count": 133,
      "outputs": [
        {
          "output_type": "execute_result",
          "data": {
            "text/plain": [
              "array([[ 1.00000000e+00, -2.77555756e-17,  1.38777878e-16],\n",
              "       [ 2.77555756e-17,  1.00000000e+00,  2.77555756e-17],\n",
              "       [-5.55111512e-17,  5.55111512e-17,  1.00000000e+00]])"
            ]
          },
          "metadata": {},
          "execution_count": 133
        }
      ]
    },
    {
      "cell_type": "code",
      "source": [
        "B @ A"
      ],
      "metadata": {
        "colab": {
          "base_uri": "https://localhost:8080/"
        },
        "id": "P3Xady0VpfRL",
        "outputId": "842bf823-3a05-468b-8c11-0d7b6726a2c9"
      },
      "id": "P3Xady0VpfRL",
      "execution_count": 134,
      "outputs": [
        {
          "output_type": "execute_result",
          "data": {
            "text/plain": [
              "array([[ 1.00000000e+00,  0.00000000e+00,  0.00000000e+00],\n",
              "       [ 5.55111512e-17,  1.00000000e+00, -1.11022302e-16],\n",
              "       [-2.77555756e-17, -5.55111512e-17,  1.00000000e+00]])"
            ]
          },
          "metadata": {},
          "execution_count": 134
        }
      ]
    }
  ],
  "metadata": {
    "kernelspec": {
      "display_name": "Python 3",
      "language": "python",
      "name": "python3"
    },
    "language_info": {
      "codemirror_mode": {
        "name": "ipython",
        "version": 3
      },
      "file_extension": ".py",
      "mimetype": "text/x-python",
      "name": "python",
      "nbconvert_exporter": "python",
      "pygments_lexer": "ipython3",
      "version": "3.8.3"
    },
    "colab": {
      "provenance": [],
      "collapsed_sections": []
    }
  },
  "nbformat": 4,
  "nbformat_minor": 5
}